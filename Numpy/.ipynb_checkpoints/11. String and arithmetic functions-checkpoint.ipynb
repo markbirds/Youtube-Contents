{
 "cells": [
  {
   "cell_type": "markdown",
   "metadata": {},
   "source": [
    "## String and arithmetic functions"
   ]
  },
  {
   "cell_type": "markdown",
   "metadata": {},
   "source": [
    "### String functions"
   ]
  },
  {
   "cell_type": "code",
   "execution_count": 1,
   "metadata": {},
   "outputs": [],
   "source": [
    "import numpy as np"
   ]
  },
  {
   "cell_type": "code",
   "execution_count": 2,
   "metadata": {},
   "outputs": [
    {
     "name": "stdout",
     "output_type": "stream",
     "text": [
      "Difference between add and concatenate in strings: ['Hello']+['World']\n",
      "\n",
      "add:\n",
      " ['HelloWorld']\n",
      "\n",
      "concatenate:\n",
      " ['Hello' 'World']\n"
     ]
    }
   ],
   "source": [
    "print('Difference between add and concatenate in strings: [\\'Hello\\']+[\\'World\\']')\n",
    "\n",
    "print('\\nadd:\\n',np.char.add(['Hello'],['World']))\n",
    "print('\\nconcatenate:\\n',np.concatenate((['Hello'],['World'])))"
   ]
  },
  {
   "cell_type": "code",
   "execution_count": 3,
   "metadata": {},
   "outputs": [
    {
     "name": "stdout",
     "output_type": "stream",
     "text": [
      "\n",
      "multiply word three times:\n",
      " ['HelloHelloHello']\n"
     ]
    }
   ],
   "source": [
    "print('\\nmultiply word three times:\\n',np.char.multiply(['Hello'],3))"
   ]
  },
  {
   "cell_type": "code",
   "execution_count": 4,
   "metadata": {},
   "outputs": [
    {
     "name": "stdout",
     "output_type": "stream",
     "text": [
      "\n",
      "upper and lower:\n",
      " ['UPPER' 'UPPER'] \n",
      " ['lower']\n"
     ]
    }
   ],
   "source": [
    "print('\\nupper and lower:\\n',np.char.upper(['upper','upper']),'\\n',np.char.lower(['LOWER']))"
   ]
  },
  {
   "cell_type": "code",
   "execution_count": 5,
   "metadata": {},
   "outputs": [
    {
     "name": "stdout",
     "output_type": "stream",
     "text": [
      "\n",
      "split \"owen patrick falculan\" into array:\n",
      " ['owen', 'patrick', 'falculan']\n"
     ]
    }
   ],
   "source": [
    "print('\\nsplit \"owen patrick falculan\" into array:\\n',np.char.split('owen patrick falculan'))"
   ]
  },
  {
   "cell_type": "code",
   "execution_count": 6,
   "metadata": {},
   "outputs": [
    {
     "name": "stdout",
     "output_type": "stream",
     "text": [
      "\n",
      "join string with specified separator:\n",
      " m,a,r,k,b,i,r,d,s\n"
     ]
    }
   ],
   "source": [
    "print('\\njoin string with specified separator:\\n',np.char.join(',','markbirds'))"
   ]
  },
  {
   "cell_type": "markdown",
   "metadata": {},
   "source": [
    "### Arithmetic Functions"
   ]
  },
  {
   "cell_type": "code",
   "execution_count": 7,
   "metadata": {},
   "outputs": [
    {
     "name": "stdout",
     "output_type": "stream",
     "text": [
      "Array 1:\n",
      " [[ 1  2  3  4]\n",
      " [ 5  6  7  8]\n",
      " [ 9 10 11 12]]\n",
      "\n",
      "Array 2:\n",
      " [5 5 5 5]\n"
     ]
    }
   ],
   "source": [
    "arr1 = np.arange(1,13).reshape(3,4)\n",
    "arr2 = np.array([5,5,5,5])\n",
    "print('Array 1:\\n',arr1)\n",
    "print('\\nArray 2:\\n',arr2)"
   ]
  },
  {
   "cell_type": "code",
   "execution_count": 8,
   "metadata": {},
   "outputs": [
    {
     "name": "stdout",
     "output_type": "stream",
     "text": [
      "\n",
      "using np.add():\n",
      " [[ 6  7  8  9]\n",
      " [10 11 12 13]\n",
      " [14 15 16 17]] \n",
      "using + operator:\n",
      " [[ 6  7  8  9]\n",
      " [10 11 12 13]\n",
      " [14 15 16 17]]\n"
     ]
    }
   ],
   "source": [
    "print('\\nusing np.add():\\n',np.add(arr1,arr2),'\\nusing + operator:\\n',arr1+arr2)"
   ]
  },
  {
   "cell_type": "code",
   "execution_count": 9,
   "metadata": {},
   "outputs": [
    {
     "name": "stdout",
     "output_type": "stream",
     "text": [
      "\n",
      "np.subtract(arr1,arr2) == arr1-arr2\n",
      "\n",
      "np.multiply(arr1,arr2) == arr1*arr2\n",
      "\n",
      "np.divide(arr1,arr2) == arr1/arr2\n",
      "\n",
      "np.mod(arr1,arr2) == arr1%arr2\n",
      "\n",
      "np.power(arr1,arr2) == arr1**arr2\n"
     ]
    }
   ],
   "source": [
    "print('\\nnp.subtract(arr1,arr2) == arr1-arr2')\n",
    "print('\\nnp.multiply(arr1,arr2) == arr1*arr2')\n",
    "print('\\nnp.divide(arr1,arr2) == arr1/arr2')\n",
    "print('\\nnp.mod(arr1,arr2) == arr1%arr2')\n",
    "print('\\nnp.power(arr1,arr2) == arr1**arr2')"
   ]
  }
 ],
 "metadata": {
  "kernelspec": {
   "display_name": "Python 3",
   "language": "python",
   "name": "python3"
  },
  "language_info": {
   "codemirror_mode": {
    "name": "ipython",
    "version": 3
   },
   "file_extension": ".py",
   "mimetype": "text/x-python",
   "name": "python",
   "nbconvert_exporter": "python",
   "pygments_lexer": "ipython3",
   "version": "3.7.9"
  }
 },
 "nbformat": 4,
 "nbformat_minor": 4
}
