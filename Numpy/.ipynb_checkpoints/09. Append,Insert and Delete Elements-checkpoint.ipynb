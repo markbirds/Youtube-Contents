{
 "cells": [
  {
   "cell_type": "markdown",
   "metadata": {},
   "source": [
    "## Append,Insert and Delete Elements"
   ]
  },
  {
   "cell_type": "code",
   "execution_count": 1,
   "metadata": {},
   "outputs": [],
   "source": [
    "import numpy as np"
   ]
  },
  {
   "cell_type": "code",
   "execution_count": 2,
   "metadata": {},
   "outputs": [
    {
     "name": "stdout",
     "output_type": "stream",
     "text": [
      "Sample Array 1:\n",
      " [[ 1  2  3  4]\n",
      " [ 5  6  7  8]\n",
      " [ 9 10 11 12]]\n",
      "\n",
      "Sample Array 2:\n",
      " [0 1 2 3]\n"
     ]
    }
   ],
   "source": [
    "arr1 = np.arange(1,13).reshape(3,4)\n",
    "arr2 = np.arange(4)\n",
    "\n",
    "print('Sample Array 1:\\n',arr1)\n",
    "print('\\nSample Array 2:\\n',arr2)"
   ]
  },
  {
   "cell_type": "code",
   "execution_count": 3,
   "metadata": {},
   "outputs": [
    {
     "name": "stdout",
     "output_type": "stream",
     "text": [
      "Append array2 to array1:\n",
      " [ 1  2  3  4  5  6  7  8  9 10 11 12  0  1  2  3]\n"
     ]
    }
   ],
   "source": [
    "print('Append array2 to array1:\\n',np.append(arr1,arr2))"
   ]
  },
  {
   "cell_type": "code",
   "execution_count": 4,
   "metadata": {},
   "outputs": [
    {
     "data": {
      "text/plain": [
       "array([[0, 1, 2, 3]])"
      ]
     },
     "execution_count": 4,
     "metadata": {},
     "output_type": "execute_result"
    }
   ],
   "source": [
    "np.expand_dims(arr2,axis=0)"
   ]
  },
  {
   "cell_type": "code",
   "execution_count": 5,
   "metadata": {},
   "outputs": [
    {
     "name": "stdout",
     "output_type": "stream",
     "text": [
      "Append array2 to array1:\n",
      " [[ 1  2  3  4]\n",
      " [ 5  6  7  8]\n",
      " [ 9 10 11 12]\n",
      " [ 0  1  2  3]]\n"
     ]
    }
   ],
   "source": [
    "print('Append array2 to array1:\\n',np.append(arr1,np.expand_dims(arr2,axis=0),axis=0))"
   ]
  },
  {
   "cell_type": "code",
   "execution_count": 6,
   "metadata": {},
   "outputs": [
    {
     "name": "stdout",
     "output_type": "stream",
     "text": [
      "\n",
      "Insert array2 to array1:\n",
      " [ 1  2  3  0  1  2  3  4  5  6  7  8  9 10 11 12]\n"
     ]
    }
   ],
   "source": [
    "print('\\nInsert array2 to array1:\\n',np.insert(arr1,3,arr2))"
   ]
  },
  {
   "cell_type": "code",
   "execution_count": 7,
   "metadata": {},
   "outputs": [
    {
     "name": "stdout",
     "output_type": "stream",
     "text": [
      "\n",
      "Insert array2 to array1:\n",
      " [[ 1  2  3  4]\n",
      " [ 0  1  2  3]\n",
      " [ 5  6  7  8]\n",
      " [ 9 10 11 12]]\n"
     ]
    }
   ],
   "source": [
    "print('\\nInsert array2 to array1:\\n',np.insert(arr1,1,arr2,axis=0))"
   ]
  },
  {
   "cell_type": "code",
   "execution_count": 8,
   "metadata": {
    "scrolled": true
   },
   "outputs": [
    {
     "name": "stdout",
     "output_type": "stream",
     "text": [
      "[[ 1  2  3  4]\n",
      " [ 5  6  7  8]\n",
      " [ 9 10 11 12]\n",
      " [13 14 15 16]\n",
      " [17 18 19 20]]\n",
      "[0 1 2 3]\n",
      "\n",
      "Delete array2(as index) to array1:\n",
      " [[17 18 19 20]]\n"
     ]
    }
   ],
   "source": [
    "arr3 = np.arange(1,21).reshape(5,4)\n",
    "print(arr3)\n",
    "print(arr2)\n",
    "print('\\nDelete array2(as index) to array1:\\n',np.delete(arr3,arr2,axis=0))"
   ]
  },
  {
   "cell_type": "code",
   "execution_count": 9,
   "metadata": {},
   "outputs": [
    {
     "name": "stdout",
     "output_type": "stream",
     "text": [
      "\n",
      "Delete array2(as index) to array1:\n",
      " []\n"
     ]
    }
   ],
   "source": [
    "print('\\nDelete array2(as index) to array1:\\n',np.delete(arr3,arr2,axis=1))"
   ]
  },
  {
   "cell_type": "code",
   "execution_count": 10,
   "metadata": {},
   "outputs": [
    {
     "name": "stdout",
     "output_type": "stream",
     "text": [
      "[[0 1 2 3]]\n"
     ]
    }
   ],
   "source": [
    "arr3 = np.expand_dims(np.arange(4),axis=0)\n",
    "print(arr3)"
   ]
  },
  {
   "cell_type": "code",
   "execution_count": 11,
   "metadata": {},
   "outputs": [
    {
     "name": "stdout",
     "output_type": "stream",
     "text": [
      "\n",
      "Append array3 to array1:\n",
      " [[ 1  2  3  4]\n",
      " [ 5  6  7  8]\n",
      " [ 9 10 11 12]\n",
      " [ 0  1  2  3]]\n"
     ]
    }
   ],
   "source": [
    "print('\\nAppend array3 to array1:\\n',np.append(arr1,arr3,axis=0))"
   ]
  },
  {
   "cell_type": "code",
   "execution_count": 12,
   "metadata": {},
   "outputs": [
    {
     "name": "stdout",
     "output_type": "stream",
     "text": [
      "\n",
      "Insert array3 to array1 in row 3:\n",
      " [[ 1  2  3  4]\n",
      " [ 5  6  7  8]\n",
      " [ 0  1  2  3]\n",
      " [ 9 10 11 12]]\n"
     ]
    }
   ],
   "source": [
    "print('\\nInsert array3 to array1 in row 3:\\n',np.insert(arr1,2,arr3,axis=0))"
   ]
  },
  {
   "cell_type": "code",
   "execution_count": 13,
   "metadata": {},
   "outputs": [
    {
     "name": "stdout",
     "output_type": "stream",
     "text": [
      "\n",
      "Delete 2nd row of array1:\n",
      " [[ 1  2  3  4]\n",
      " [ 9 10 11 12]]\n",
      "\n",
      "Delete 2nd column of array1:\n",
      " [[ 1  3  4]\n",
      " [ 5  7  8]\n",
      " [ 9 11 12]]\n"
     ]
    }
   ],
   "source": [
    "print('\\nDelete 2nd row of array1:\\n',np.delete(arr1,1,axis=0))\n",
    "print('\\nDelete 2nd column of array1:\\n',np.delete(arr1,1,axis=1))"
   ]
  }
 ],
 "metadata": {
  "kernelspec": {
   "display_name": "Python 3",
   "language": "python",
   "name": "python3"
  },
  "language_info": {
   "codemirror_mode": {
    "name": "ipython",
    "version": 3
   },
   "file_extension": ".py",
   "mimetype": "text/x-python",
   "name": "python",
   "nbconvert_exporter": "python",
   "pygments_lexer": "ipython3",
   "version": "3.7.9"
  }
 },
 "nbformat": 4,
 "nbformat_minor": 4
}
