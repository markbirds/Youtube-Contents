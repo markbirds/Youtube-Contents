{
 "cells": [
  {
   "cell_type": "markdown",
   "metadata": {},
   "source": [
    "## Statistical Functions"
   ]
  },
  {
   "cell_type": "code",
   "execution_count": 1,
   "metadata": {},
   "outputs": [],
   "source": [
    "import numpy as np"
   ]
  },
  {
   "cell_type": "code",
   "execution_count": 2,
   "metadata": {},
   "outputs": [
    {
     "name": "stdout",
     "output_type": "stream",
     "text": [
      "Sample array:\n",
      " [[99 44 98 96 25 11 50 89 48 83]\n",
      " [61 34 24 55 71 94 97 67 68  5]\n",
      " [83 17 70 29 58 81 82 65 82 83]]\n"
     ]
    }
   ],
   "source": [
    "arr1 = np.random.randint(1,101,size=(3,10))\n",
    "print('Sample array:\\n',arr1)"
   ]
  },
  {
   "cell_type": "code",
   "execution_count": 3,
   "metadata": {},
   "outputs": [
    {
     "name": "stdout",
     "output_type": "stream",
     "text": [
      "\n",
      "Finding minimum value using np.amin (you can also use np.min):  5\n",
      "Finding maximum value using np.amax (you can also use np.max):  99\n"
     ]
    }
   ],
   "source": [
    "print('\\nFinding minimum value using np.amin (you can also use np.min): ',np.amin(arr1))\n",
    "print('Finding maximum value using np.amax (you can also use np.max): ',np.amax(arr1))"
   ]
  },
  {
   "cell_type": "code",
   "execution_count": 4,
   "metadata": {},
   "outputs": [
    {
     "name": "stdout",
     "output_type": "stream",
     "text": [
      "\n",
      "Finding minimum value in each row:  [11  5 17]\n",
      "Finding maximum value in each row:  [99 97 83]\n"
     ]
    }
   ],
   "source": [
    "print('\\nFinding minimum value in each row: ',np.amin(arr1,axis=1))\n",
    "print('Finding maximum value in each row: ',np.amax(arr1,axis=1))"
   ]
  },
  {
   "cell_type": "code",
   "execution_count": 5,
   "metadata": {},
   "outputs": [
    {
     "name": "stdout",
     "output_type": "stream",
     "text": [
      "\n",
      "Finding minimum value in each column:  [61 17 24 29 25 11 50 65 48  5]\n",
      "Finding maximum value in each column:  [99 44 98 96 71 94 97 89 82 83]\n"
     ]
    }
   ],
   "source": [
    "print('\\nFinding minimum value in each column: ',np.amin(arr1,axis=0))\n",
    "print('Finding maximum value in each column: ',np.amax(arr1,axis=0))"
   ]
  },
  {
   "cell_type": "code",
   "execution_count": 6,
   "metadata": {},
   "outputs": [
    {
     "name": "stdout",
     "output_type": "stream",
     "text": [
      "\n",
      "Range from minimum to maximum:  94\n",
      "Range from minimum to maximum in each row:  [88 92 66]\n",
      "Range from minimum to maximum in each column:  [38 27 74 67 46 83 47 24 34 78]\n"
     ]
    }
   ],
   "source": [
    "print('\\nRange from minimum to maximum: ',np.ptp(arr1))\n",
    "print('Range from minimum to maximum in each row: ',np.ptp(arr1,axis=1))\n",
    "print('Range from minimum to maximum in each column: ',np.ptp(arr1,axis=0))"
   ]
  },
  {
   "cell_type": "code",
   "execution_count": 7,
   "metadata": {},
   "outputs": [
    {
     "name": "stdout",
     "output_type": "stream",
     "text": [
      "\n",
      "50th Percentile:  67.5\n",
      "50th Percentile in each row:  [66.5 64.  75.5]\n",
      "50th Percentile in each column:  [83. 34. 70. 55. 58. 81. 82. 67. 68. 83.]\n"
     ]
    }
   ],
   "source": [
    "print('\\n50th Percentile: ',np.percentile(arr1,50))\n",
    "print('50th Percentile in each row: ',np.percentile(arr1,50,axis=1))\n",
    "print('50th Percentile in each column: ',np.percentile(arr1,50,axis=0))"
   ]
  },
  {
   "cell_type": "code",
   "execution_count": 8,
   "metadata": {},
   "outputs": [
    {
     "name": "stdout",
     "output_type": "stream",
     "text": [
      "\n",
      "Median:  67.5\n",
      "Median in each row:  [66.5 64.  75.5]\n",
      "Median in each column:  [83. 34. 70. 55. 58. 81. 82. 67. 68. 83.]\n"
     ]
    }
   ],
   "source": [
    "print('\\nMedian: ',np.median(arr1))\n",
    "print('Median in each row: ',np.median(arr1,axis=1))\n",
    "print('Median in each column: ',np.median(arr1,axis=0))"
   ]
  },
  {
   "cell_type": "code",
   "execution_count": 9,
   "metadata": {},
   "outputs": [
    {
     "name": "stdout",
     "output_type": "stream",
     "text": [
      "\n",
      "Mean/Average:  62.3\n",
      "Mean/Average in each row:  [64.3 57.6 65. ]\n",
      "Mean/Average in each column:  [81.   31.67 64.   60.   51.33 62.   76.33 73.67 66.   57.  ]\n"
     ]
    }
   ],
   "source": [
    "print('\\nMean/Average: ',round(np.mean(arr1),2))\n",
    "print('Mean/Average in each row: ',np.round(np.mean(arr1,axis=1),2))\n",
    "print('Mean/Average in each column: ',np.round(np.mean(arr1,axis=0),2))"
   ]
  },
  {
   "cell_type": "code",
   "execution_count": 10,
   "metadata": {},
   "outputs": [
    {
     "name": "stdout",
     "output_type": "stream",
     "text": [
      "\n",
      "Weighted average of 1st row based on the corresponding weight of [4,3,2,1,2,3,4,1,4,3]: 60.48\n"
     ]
    }
   ],
   "source": [
    "# round numbers in numpy using np.round/np.around,np.ceil,np.floor\n",
    "\n",
    "weights = np.array([4,3,2,1,2,3,4,1,4,3])\n",
    "print('\\nWeighted average of 1st row based on the corresponding weight of [4,3,2,1,2,3,4,1,4,3]: ',end='')\n",
    "print(np.round(np.average(arr1[0],weights=weights),2))"
   ]
  },
  {
   "cell_type": "code",
   "execution_count": 11,
   "metadata": {},
   "outputs": [
    {
     "name": "stdout",
     "output_type": "stream",
     "text": [
      "\n",
      "Standard Deviation:  27.56\n",
      "Standard Deviation of each row:  [30.94 27.79 22.71]\n",
      "Standard Deviation of each column:  [15.58 11.15 30.51 27.58 19.36 36.45 19.6  10.87 13.95 36.77]\n",
      "\n",
      "Variance:  759.54\n"
     ]
    }
   ],
   "source": [
    "print('\\nStandard Deviation: ',round(np.std(arr1),2))\n",
    "print('Standard Deviation of each row: ',np.round(np.std(arr1,axis=1),2))\n",
    "print('Standard Deviation of each column: ',np.round(np.std(arr1,axis=0),2))\n",
    "\n",
    "print('\\nVariance: ',round(np.var(arr1),2))"
   ]
  }
 ],
 "metadata": {
  "kernelspec": {
   "display_name": "Python 3",
   "language": "python",
   "name": "python3"
  },
  "language_info": {
   "codemirror_mode": {
    "name": "ipython",
    "version": 3
   },
   "file_extension": ".py",
   "mimetype": "text/x-python",
   "name": "python",
   "nbconvert_exporter": "python",
   "pygments_lexer": "ipython3",
   "version": "3.7.9"
  }
 },
 "nbformat": 4,
 "nbformat_minor": 4
}
