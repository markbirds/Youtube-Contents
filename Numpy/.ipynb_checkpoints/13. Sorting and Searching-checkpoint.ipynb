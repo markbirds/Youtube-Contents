{
 "cells": [
  {
   "cell_type": "markdown",
   "metadata": {},
   "source": [
    "## Sorting and Searching"
   ]
  },
  {
   "cell_type": "markdown",
   "metadata": {},
   "source": [
    "### Sort"
   ]
  },
  {
   "cell_type": "code",
   "execution_count": 1,
   "metadata": {},
   "outputs": [],
   "source": [
    "import numpy as np"
   ]
  },
  {
   "cell_type": "code",
   "execution_count": 2,
   "metadata": {},
   "outputs": [
    {
     "name": "stdout",
     "output_type": "stream",
     "text": [
      "Sample array:\n",
      " [[ 3 47 70 84 99 96 38 26 14 49]\n",
      " [22 24 60 13 19 97 42 54 66 22]\n",
      " [88 32 17 45 33 99 65 84 24 91]]\n"
     ]
    }
   ],
   "source": [
    "arr1 = np.random.randint(1,101,size=(3,10))\n",
    "print('Sample array:\\n',arr1)"
   ]
  },
  {
   "cell_type": "code",
   "execution_count": 3,
   "metadata": {},
   "outputs": [
    {
     "name": "stdout",
     "output_type": "stream",
     "text": [
      "\n",
      "Sorting sample array (flatten it first):\n",
      " [ 3 13 14 17 19 22 22 24 24 26 32 33 38 42 45 47 49 54 60 65 66 70 84 84\n",
      " 88 91 96 97 99 99]\n"
     ]
    }
   ],
   "source": [
    "print('\\nSorting sample array (flatten it first):\\n',np.sort(arr1.flatten()))"
   ]
  },
  {
   "cell_type": "code",
   "execution_count": 4,
   "metadata": {},
   "outputs": [
    {
     "name": "stdout",
     "output_type": "stream",
     "text": [
      "\n",
      "Sorting each row of sample array:\n",
      " [[ 3 14 26 38 47 49 70 84 96 99]\n",
      " [13 19 22 22 24 42 54 60 66 97]\n",
      " [17 24 32 33 45 65 84 88 91 99]]\n"
     ]
    }
   ],
   "source": [
    "print('\\nSorting each row of sample array:\\n',np.sort(arr1))"
   ]
  },
  {
   "cell_type": "code",
   "execution_count": 5,
   "metadata": {},
   "outputs": [
    {
     "name": "stdout",
     "output_type": "stream",
     "text": [
      "\n",
      "Sorting each column of sample array:\n",
      " [[ 3 24 17 13 19 96 38 26 14 22]\n",
      " [22 32 60 45 33 97 42 54 24 49]\n",
      " [88 47 70 84 99 99 65 84 66 91]]\n"
     ]
    }
   ],
   "source": [
    "print('\\nSorting each column of sample array:\\n',np.sort(arr1,axis=0))"
   ]
  },
  {
   "cell_type": "markdown",
   "metadata": {},
   "source": [
    "### Search"
   ]
  },
  {
   "cell_type": "code",
   "execution_count": 6,
   "metadata": {},
   "outputs": [
    {
     "name": "stdout",
     "output_type": "stream",
     "text": [
      "Sample array:\n",
      " [[56 17  9 93 45  2 80 49  8 91]\n",
      " [44 46 85 78 66 86 79 57 46 35]\n",
      " [47 39 36 48 96 35 55 65 80 26]]\n"
     ]
    }
   ],
   "source": [
    "arr1 = np.random.randint(1,101,size=(3,10))\n",
    "print('Sample array:\\n',arr1)"
   ]
  },
  {
   "cell_type": "code",
   "execution_count": 7,
   "metadata": {},
   "outputs": [
    {
     "name": "stdout",
     "output_type": "stream",
     "text": [
      "\n",
      "Index of minimum element: (seen as flattened array) 5\n"
     ]
    }
   ],
   "source": [
    "print('\\nIndex of minimum element: (seen as flattened array)',np.argmin(arr1))"
   ]
  },
  {
   "cell_type": "code",
   "execution_count": 8,
   "metadata": {},
   "outputs": [
    {
     "data": {
      "text/plain": [
       "96"
      ]
     },
     "execution_count": 8,
     "metadata": {},
     "output_type": "execute_result"
    }
   ],
   "source": [
    "arr1.flatten()[24]"
   ]
  },
  {
   "cell_type": "code",
   "execution_count": 9,
   "metadata": {},
   "outputs": [
    {
     "name": "stdout",
     "output_type": "stream",
     "text": [
      "\n",
      "Indices of minimum element in each row:  [5 9 9]\n",
      "Indices of minimum element in each column:  [1 0 0 2 0 0 2 0 0 2]\n"
     ]
    }
   ],
   "source": [
    "print('\\nIndices of minimum element in each row: ',np.argmin(arr1,axis=1))\n",
    "print('Indices of minimum element in each column: ',np.argmin(arr1,axis=0))"
   ]
  },
  {
   "cell_type": "code",
   "execution_count": 10,
   "metadata": {
    "scrolled": true
   },
   "outputs": [
    {
     "name": "stdout",
     "output_type": "stream",
     "text": [
      "\n",
      "Indices of maximum element in each row:  [3 5 4]\n",
      "Indices of maximum element in each column:  [0 1 1 0 2 1 0 2 2 0]\n"
     ]
    }
   ],
   "source": [
    "print('\\nIndices of maximum element in each row: ',np.argmax(arr1,axis=1))\n",
    "print('Indices of maximum element in each column: ',np.argmax(arr1,axis=0))"
   ]
  },
  {
   "cell_type": "code",
   "execution_count": 11,
   "metadata": {},
   "outputs": [
    {
     "data": {
      "text/plain": [
       "(array([0, 0, 0, 0, 1, 1, 1, 1, 1, 1, 2, 2, 2, 2], dtype=int64),\n",
       " array([0, 3, 6, 9, 2, 3, 4, 5, 6, 7, 4, 6, 7, 8], dtype=int64))"
      ]
     },
     "execution_count": 11,
     "metadata": {},
     "output_type": "execute_result"
    }
   ],
   "source": [
    "np.where(arr1>50)"
   ]
  },
  {
   "cell_type": "code",
   "execution_count": 12,
   "metadata": {},
   "outputs": [
    {
     "name": "stdout",
     "output_type": "stream",
     "text": [
      "\n",
      "Indices of elements greater than 50:\n",
      " [0 0 0 0 1 1 1 1 1 1 2 2 2 2] \n",
      " [0 3 6 9 2 3 4 5 6 7 4 6 7 8]\n"
     ]
    }
   ],
   "source": [
    "print('\\nIndices of elements greater than 50:\\n',np.where(arr1>50)[0],'\\n',np.where(arr1>50)[1])"
   ]
  },
  {
   "cell_type": "code",
   "execution_count": 13,
   "metadata": {},
   "outputs": [
    {
     "name": "stdout",
     "output_type": "stream",
     "text": [
      "\n",
      "Using arr[arr>50]:\n",
      " [56 93 80 91 85 78 66 86 79 57 96 55 65 80]\n"
     ]
    }
   ],
   "source": [
    "print('\\nUsing arr[arr>50]:\\n',arr1[arr1>50])"
   ]
  }
 ],
 "metadata": {
  "kernelspec": {
   "display_name": "Python 3",
   "language": "python",
   "name": "python3"
  },
  "language_info": {
   "codemirror_mode": {
    "name": "ipython",
    "version": 3
   },
   "file_extension": ".py",
   "mimetype": "text/x-python",
   "name": "python",
   "nbconvert_exporter": "python",
   "pygments_lexer": "ipython3",
   "version": "3.7.9"
  }
 },
 "nbformat": 4,
 "nbformat_minor": 4
}
