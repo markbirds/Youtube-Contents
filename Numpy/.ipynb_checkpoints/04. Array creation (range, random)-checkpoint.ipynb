{
 "cells": [
  {
   "cell_type": "markdown",
   "metadata": {},
   "source": [
    "## Array creation (range, random)"
   ]
  },
  {
   "cell_type": "code",
   "execution_count": 1,
   "metadata": {},
   "outputs": [],
   "source": [
    "import numpy as np"
   ]
  },
  {
   "cell_type": "code",
   "execution_count": 5,
   "metadata": {},
   "outputs": [
    {
     "name": "stdout",
     "output_type": "stream",
     "text": [
      "Python List\n",
      "[0, 1, 2, 3, 4, 5, 6, 7, 8, 9, 10, 11, 12, 13, 14, 15, 16, 17, 18, 19]\n"
     ]
    }
   ],
   "source": [
    "#range in plain python\n",
    "arr1 = range(20)\n",
    "print('Python List')\n",
    "print(list(arr1))"
   ]
  },
  {
   "cell_type": "code",
   "execution_count": 10,
   "metadata": {},
   "outputs": [
    {
     "name": "stdout",
     "output_type": "stream",
     "text": [
      "\n",
      "Numpy array\n",
      "[ 0  1  2  3  4  5  6  7  8  9 10 11 12 13 14 15 16 17 18 19]\n",
      "[ 1  3  5  7  9 11 13 15 17 19 21 23 25 27 29]\n"
     ]
    }
   ],
   "source": [
    "#range in numpy\n",
    "print('\\nNumpy array')\n",
    "arr1 = np.arange(20)\n",
    "print(arr1)\n",
    "arr2 = np.arange(1,30,2)\n",
    "print(arr2)"
   ]
  },
  {
   "cell_type": "code",
   "execution_count": 11,
   "metadata": {
    "scrolled": true
   },
   "outputs": [
    {
     "name": "stdout",
     "output_type": "stream",
     "text": [
      "\n",
      "numpy linspace\n",
      "[ 0.   2.5  5.   7.5 10. ]\n",
      "[0. 2. 4. 6. 8.]\n",
      "(array([ 0. ,  2.5,  5. ,  7.5, 10. ]), 2.5)\n"
     ]
    }
   ],
   "source": [
    "print('\\nnumpy linspace')\n",
    "arr3 = np.linspace(0,10,5)\n",
    "print(arr3)\n",
    "arr4 = np.linspace(0,10,5,endpoint=False) #stop value not included\n",
    "print(arr4)\n",
    "arr5 = np.linspace(0,10,5,retstep=True) #returns the step value\n",
    "print(arr5)"
   ]
  },
  {
   "cell_type": "code",
   "execution_count": 13,
   "metadata": {},
   "outputs": [
    {
     "data": {
      "text/plain": [
       "array([[  64,  -39,  126],\n",
       "       [-103,  107,    2],\n",
       "       [   0,    0,    0]], dtype=int8)"
      ]
     },
     "execution_count": 13,
     "metadata": {},
     "output_type": "execute_result"
    }
   ],
   "source": [
    "arr1 = np.empty([3,3],dtype='int8')\n",
    "arr1"
   ]
  },
  {
   "cell_type": "code",
   "execution_count": 14,
   "metadata": {},
   "outputs": [
    {
     "data": {
      "text/plain": [
       "array([[0, 0, 0],\n",
       "       [0, 0, 0],\n",
       "       [0, 0, 0]])"
      ]
     },
     "execution_count": 14,
     "metadata": {},
     "output_type": "execute_result"
    }
   ],
   "source": [
    "arr2 = np.zeros((3,3),dtype='int')\n",
    "arr2"
   ]
  },
  {
   "cell_type": "code",
   "execution_count": 15,
   "metadata": {},
   "outputs": [
    {
     "data": {
      "text/plain": [
       "array([[1, 1, 1],\n",
       "       [1, 1, 1],\n",
       "       [1, 1, 1]])"
      ]
     },
     "execution_count": 15,
     "metadata": {},
     "output_type": "execute_result"
    }
   ],
   "source": [
    "arr3 = np.ones((3,3),dtype='int')\n",
    "arr3"
   ]
  },
  {
   "cell_type": "code",
   "execution_count": 20,
   "metadata": {},
   "outputs": [
    {
     "data": {
      "text/plain": [
       "array([[10, 11, 11],\n",
       "       [11, 11, 11],\n",
       "       [11, 11, 10]])"
      ]
     },
     "execution_count": 20,
     "metadata": {},
     "output_type": "execute_result"
    }
   ],
   "source": [
    "arr4 = np.random.randint(10,12,size=(3,3))\n",
    "arr4"
   ]
  },
  {
   "cell_type": "code",
   "execution_count": 22,
   "metadata": {},
   "outputs": [
    {
     "data": {
      "text/plain": [
       "array([[5, 5, 5],\n",
       "       [5, 5, 5],\n",
       "       [5, 5, 5]])"
      ]
     },
     "execution_count": 22,
     "metadata": {},
     "output_type": "execute_result"
    }
   ],
   "source": [
    "arr5 = np.full((3,3),5)\n",
    "arr5"
   ]
  },
  {
   "cell_type": "code",
   "execution_count": 23,
   "metadata": {},
   "outputs": [
    {
     "name": "stdout",
     "output_type": "stream",
     "text": [
      "empty:\n",
      " [[         0          1          0]\n",
      " [1617978740        940          0]\n",
      " [       768          0  538976366]]\n",
      "\n",
      "zeros:\n",
      " [[0 0 0]\n",
      " [0 0 0]\n",
      " [0 0 0]]\n",
      "\n",
      "ones:\n",
      " [[1 1 1]\n",
      " [1 1 1]\n",
      " [1 1 1]]\n",
      "\n",
      "random:\n",
      " [[9 8 4]\n",
      " [2 5 4]\n",
      " [2 2 0]]\n",
      "\n",
      "full:\n",
      " [[3 3 3]\n",
      " [3 3 3]\n",
      " [3 3 3]]\n"
     ]
    }
   ],
   "source": [
    "arr1 = np.empty([3,3],dtype='int')\n",
    "arr2 = np.zeros((3,3),dtype='int')\n",
    "arr3 = np.ones((3,3),dtype='int')\n",
    "arr4 = np.random.randint((10),size=(3,3))\n",
    "arr5 = np.full((3,3),3)\n",
    "\n",
    "print('empty:\\n',arr1)\n",
    "print('\\nzeros:\\n',arr2)\n",
    "print('\\nones:\\n',arr3)\n",
    "print('\\nrandom:\\n',arr4)\n",
    "print('\\nfull:\\n',arr5)"
   ]
  }
 ],
 "metadata": {
  "kernelspec": {
   "display_name": "Python 3",
   "language": "python",
   "name": "python3"
  },
  "language_info": {
   "codemirror_mode": {
    "name": "ipython",
    "version": 3
   },
   "file_extension": ".py",
   "mimetype": "text/x-python",
   "name": "python",
   "nbconvert_exporter": "python",
   "pygments_lexer": "ipython3",
   "version": "3.7.9"
  }
 },
 "nbformat": 4,
 "nbformat_minor": 4
}
