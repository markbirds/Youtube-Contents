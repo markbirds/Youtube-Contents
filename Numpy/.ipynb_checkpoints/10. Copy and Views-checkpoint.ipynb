{
 "cells": [
  {
   "cell_type": "markdown",
   "metadata": {},
   "source": [
    "## Copy and Views"
   ]
  },
  {
   "cell_type": "code",
   "execution_count": 1,
   "metadata": {},
   "outputs": [],
   "source": [
    "import numpy as np"
   ]
  },
  {
   "cell_type": "code",
   "execution_count": 2,
   "metadata": {},
   "outputs": [],
   "source": [
    "arr1 = np.arange(1,13).reshape(3,4)\n",
    "arr2 = arr1"
   ]
  },
  {
   "cell_type": "code",
   "execution_count": 3,
   "metadata": {},
   "outputs": [
    {
     "name": "stdout",
     "output_type": "stream",
     "text": [
      "Array 1:\n",
      " [[ 1  2  3  4]\n",
      " [ 5  6  7  8]\n",
      " [ 9 10 11 12]]\n",
      "\n",
      "arr2 = arr1:\n",
      "\n",
      "Array 2:\n",
      " [[ 1  2  3  4]\n",
      " [ 5  6  7  8]\n",
      " [ 9 10 11 12]]\n"
     ]
    }
   ],
   "source": [
    "print('Array 1:\\n',arr1)\n",
    "print('\\narr2 = arr1:')\n",
    "print('\\nArray 2:\\n',arr2)"
   ]
  },
  {
   "cell_type": "code",
   "execution_count": 4,
   "metadata": {},
   "outputs": [
    {
     "name": "stdout",
     "output_type": "stream",
     "text": [
      "\n",
      "id(Array1): 2595408355696 == id(Array2): 2595408355696\n"
     ]
    }
   ],
   "source": [
    "print('\\nid(Array1):',id(arr1),'==','id(Array2):',id(arr2))"
   ]
  },
  {
   "cell_type": "code",
   "execution_count": 5,
   "metadata": {},
   "outputs": [
    {
     "name": "stdout",
     "output_type": "stream",
     "text": [
      "Array 1 == Array 2:  True\n"
     ]
    }
   ],
   "source": [
    "print('Array 1 == Array 2: ',id(arr1)==id(arr2))"
   ]
  },
  {
   "cell_type": "markdown",
   "metadata": {},
   "source": [
    "### View"
   ]
  },
  {
   "cell_type": "code",
   "execution_count": 6,
   "metadata": {},
   "outputs": [
    {
     "name": "stdout",
     "output_type": "stream",
     "text": [
      "Array 1:\n",
      " [[ 1  2  3  4]\n",
      " [ 5  6  7  8]\n",
      " [ 9 10 11 12]]\n",
      "\n",
      "arr2 = arr1.view():\n",
      "\n",
      "Array 2:\n",
      " [[ 1  2  3  4]\n",
      " [ 5  6  7  8]\n",
      " [ 9 10 11 12]]\n",
      "\n",
      "id(Array1): 2595408425008 == id(Array2): 2595408425088\n",
      "Array 1 == Array 2:  False\n"
     ]
    }
   ],
   "source": [
    "arr1 = np.arange(1,13).reshape(3,4)\n",
    "arr2 = arr1.view()\n",
    "\n",
    "print('Array 1:\\n',arr1)\n",
    "print('\\narr2 = arr1.view():')\n",
    "print('\\nArray 2:\\n',arr2)\n",
    "print('\\nid(Array1):',id(arr1),'==','id(Array2):',id(arr2))\n",
    "print('Array 1 == Array 2: ',id(arr1)==id(arr2))"
   ]
  },
  {
   "cell_type": "code",
   "execution_count": 7,
   "metadata": {},
   "outputs": [
    {
     "name": "stdout",
     "output_type": "stream",
     "text": [
      "\n",
      "Change in the values in the array also changes the values of the original.\n",
      "\n",
      "arr2[0]=[10,10,10,10]\n",
      "\n",
      "Array 2:\n",
      " [[10 10 10 10]\n",
      " [ 5  6  7  8]\n",
      " [ 9 10 11 12]]\n",
      "Array 1:\n",
      " [[10 10 10 10]\n",
      " [ 5  6  7  8]\n",
      " [ 9 10 11 12]]\n"
     ]
    }
   ],
   "source": [
    "print('\\nChange in the values in the array also changes the values of the original.')\n",
    "print('\\narr2[0]=[10,10,10,10]')\n",
    "arr2[0]=[10,10,10,10]\n",
    "print('\\nArray 2:\\n',arr2)\n",
    "print('Array 1:\\n',arr1)"
   ]
  },
  {
   "cell_type": "code",
   "execution_count": 8,
   "metadata": {},
   "outputs": [
    {
     "name": "stdout",
     "output_type": "stream",
     "text": [
      "\n",
      "But change in dimensions of the array doesn’t change dimensions of the original.\n",
      "\n",
      "arr2.shape = (2,6)\n",
      "\n",
      "Array 2:\n",
      " [[10 10 10 10  5  6]\n",
      " [ 7  8  9 10 11 12]]\n",
      "Array 1:\n",
      " [[10 10 10 10]\n",
      " [ 5  6  7  8]\n",
      " [ 9 10 11 12]]\n"
     ]
    }
   ],
   "source": [
    "print('\\nBut change in dimensions of the array doesn’t change dimensions of the original.')\n",
    "\n",
    "print('\\narr2.shape = (2,6)')\n",
    "arr2.shape = (2,6)\n",
    "print('\\nArray 2:\\n',arr2)\n",
    "print('Array 1:\\n',arr1)"
   ]
  },
  {
   "cell_type": "markdown",
   "metadata": {},
   "source": [
    "### Copy"
   ]
  },
  {
   "cell_type": "code",
   "execution_count": 9,
   "metadata": {},
   "outputs": [
    {
     "name": "stdout",
     "output_type": "stream",
     "text": [
      "Array 1:\n",
      " [[ 1  2  3  4]\n",
      " [ 5  6  7  8]\n",
      " [ 9 10 11 12]]\n",
      "\n",
      "arr2 = arr1.copy():\n",
      "\n",
      "Array 2:\n",
      " [[ 1  2  3  4]\n",
      " [ 5  6  7  8]\n",
      " [ 9 10 11 12]]\n",
      "\n",
      "id(Array1): 2595408428208 == id(Array2): 2595408425008\n",
      "Array 1 == Array 2:  False\n"
     ]
    }
   ],
   "source": [
    "arr1 = np.arange(1,13).reshape(3,4)\n",
    "arr2 = arr1.copy()\n",
    "print('Array 1:\\n',arr1)\n",
    "print('\\narr2 = arr1.copy():')\n",
    "print('\\nArray 2:\\n',arr2)\n",
    "print('\\nid(Array1):',id(arr1),'==','id(Array2):',id(arr2))\n",
    "print('Array 1 == Array 2: ',id(arr1)==id(arr2))"
   ]
  },
  {
   "cell_type": "code",
   "execution_count": 10,
   "metadata": {},
   "outputs": [
    {
     "name": "stdout",
     "output_type": "stream",
     "text": [
      "\n",
      "Change in the values in the array doesn't changes the values of the original.\n",
      "\n",
      "arr2[0]=[10,10,10,10]\n",
      "\n",
      "Array 2:\n",
      " [[10 10 10 10]\n",
      " [ 5  6  7  8]\n",
      " [ 9 10 11 12]]\n",
      "Array 1:\n",
      " [[ 1  2  3  4]\n",
      " [ 5  6  7  8]\n",
      " [ 9 10 11 12]]\n"
     ]
    }
   ],
   "source": [
    "print('\\nChange in the values in the array doesn\\'t changes the values of the original.')\n",
    "print('\\narr2[0]=[10,10,10,10]')\n",
    "arr2[0]=[10,10,10,10]\n",
    "print('\\nArray 2:\\n',arr2)\n",
    "print('Array 1:\\n',arr1)"
   ]
  },
  {
   "cell_type": "code",
   "execution_count": 11,
   "metadata": {},
   "outputs": [
    {
     "name": "stdout",
     "output_type": "stream",
     "text": [
      "\n",
      "Change in dimensions of the array also doesn’t change dimensions of the original.\n",
      "\n",
      "arr2.shape = (2,6)\n",
      "\n",
      "Array 2:\n",
      " [[10 10 10 10  5  6]\n",
      " [ 7  8  9 10 11 12]]\n",
      "Array 1:\n",
      " [[ 1  2  3  4]\n",
      " [ 5  6  7  8]\n",
      " [ 9 10 11 12]]\n"
     ]
    }
   ],
   "source": [
    "print('\\nChange in dimensions of the array also doesn’t change dimensions of the original.')\n",
    "\n",
    "print('\\narr2.shape = (2,6)')\n",
    "arr2.shape = (2,6)\n",
    "print('\\nArray 2:\\n',arr2)\n",
    "print('Array 1:\\n',arr1)"
   ]
  },
  {
   "cell_type": "code",
   "execution_count": null,
   "metadata": {},
   "outputs": [],
   "source": []
  }
 ],
 "metadata": {
  "kernelspec": {
   "display_name": "Python 3",
   "language": "python",
   "name": "python3"
  },
  "language_info": {
   "codemirror_mode": {
    "name": "ipython",
    "version": 3
   },
   "file_extension": ".py",
   "mimetype": "text/x-python",
   "name": "python",
   "nbconvert_exporter": "python",
   "pygments_lexer": "ipython3",
   "version": "3.7.9"
  }
 },
 "nbformat": 4,
 "nbformat_minor": 4
}
