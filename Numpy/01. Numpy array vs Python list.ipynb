{
 "cells": [
  {
   "cell_type": "markdown",
   "metadata": {},
   "source": [
    "## Numpy array vs Python list\n",
    "\n",
    "\n",
    "### Sources\n",
    "\n",
    "[https://webcourses.ucf.edu](https://webcourses.ucf.edu/courses/1249560/pages/python-lists-vs-numpy-arrays-what-is-the-difference#:~:text=A%20numpy%20array%20is%20a,a%20tuple%20of%20nonnegative%20integers.&text=A%20list%20is%20the%20Python,The%20answer%20is%20performance.)\n",
    "<br>\n",
    "[https://www.geeksforgeeks.org](https://www.geeksforgeeks.org/python-lists-vs-numpy-arrays/)"
   ]
  },
  {
   "cell_type": "code",
   "execution_count": 1,
   "metadata": {},
   "outputs": [],
   "source": [
    "import numpy as np\n",
    "import time\n",
    "import sys"
   ]
  },
  {
   "cell_type": "markdown",
   "metadata": {},
   "source": [
    "<strong>Size - Numpy data structures take up less space</strong>"
   ]
  },
  {
   "cell_type": "code",
   "execution_count": 2,
   "metadata": {},
   "outputs": [
    {
     "name": "stdout",
     "output_type": "stream",
     "text": [
      "Size of each element of list in bytes:  48\n",
      "Size of the whole list in bytes:  48000\n",
      "Size of each element of the Numpy array in bytes:  4\n",
      "Size of the whole Numpy array in bytes:  4000\n"
     ]
    }
   ],
   "source": [
    "# declaring a list of 1000 elements  \n",
    "list_nums = range(1000) \n",
    "  \n",
    "# printing size of each element of the list \n",
    "print(\"Size of each element of list in bytes: \",sys.getsizeof(list_nums)) \n",
    "  \n",
    "# printing size of the whole list \n",
    "print(\"Size of the whole list in bytes: \",sys.getsizeof(list_nums)*len(list_nums)) \n",
    "  \n",
    "# declaring a Numpy array of 1000 elements  \n",
    "nparray_nums = np.arange(1000) \n",
    "  \n",
    "# printing size of each element of the Numpy array \n",
    "print(\"Size of each element of the Numpy array in bytes: \",nparray_nums.itemsize) \n",
    "  \n",
    "# printing size of the whole Numpy array \n",
    "print(\"Size of the whole Numpy array in bytes: \",nparray_nums.size*nparray_nums.itemsize) "
   ]
  },
  {
   "cell_type": "markdown",
   "metadata": {},
   "source": [
    "<strong>Performance - they have a need for speed and are faster than lists</strong>"
   ]
  },
  {
   "cell_type": "code",
   "execution_count": 3,
   "metadata": {},
   "outputs": [
    {
     "name": "stdout",
     "output_type": "stream",
     "text": [
      "Time taken by Lists to perform multiplication: 0.1316821575164795 seconds\n",
      "Time taken by NumPy Arrays to perform multiplication: 0.002972126007080078 seconds\n"
     ]
    }
   ],
   "source": [
    "# size of arrays and lists \n",
    "size = 1000000\n",
    "   \n",
    "# declaring lists \n",
    "list1 = range(size) \n",
    "list2 = range(size) \n",
    "   \n",
    "# declaring arrays \n",
    "array1 = np.arange(size)   \n",
    "array2 = np.arange(size) \n",
    "   \n",
    "# capturing time before the multiplication of Python lists \n",
    "initialTime = time.time() \n",
    "  \n",
    "# multiplying  elements of both the lists and stored in another list \n",
    "resultantList = [(a * b) for a, b in zip(list1, list2)] \n",
    "   \n",
    "# calculating execution time \n",
    "print(\"Time taken by Lists to perform multiplication:\",  \n",
    "      (time.time() - initialTime), \n",
    "      \"seconds\") \n",
    "   \n",
    "# capturing time before the multiplication of Numpy arrays \n",
    "initialTime = time.time() \n",
    "  \n",
    "# multiplying  elements of both the Numpy arrays and stored in another Numpy array  \n",
    "resultantArray = array1 * array2 \n",
    "   \n",
    "# calculating execution time  \n",
    "print(\"Time taken by NumPy Arrays to perform multiplication:\", \n",
    "      (time.time() - initialTime), \n",
    "      \"seconds\") "
   ]
  },
  {
   "cell_type": "code",
   "execution_count": 4,
   "metadata": {},
   "outputs": [
    {
     "name": "stdout",
     "output_type": "stream",
     "text": [
      "0.26747846603393555 0.0049970149993896484\n",
      "Numpy is in this example 53.52764921990553 faster!\n"
     ]
    }
   ],
   "source": [
    "size_of_vec = 1000000\n",
    "\n",
    "def pure_python_version():\n",
    "    t1 = time.time()\n",
    "    X = range(size_of_vec)\n",
    "    Y = range(size_of_vec)\n",
    "    Z = [X[i] + Y[i] for i in range(len(X)) ]\n",
    "    return time.time() - t1\n",
    "\n",
    "def numpy_version():\n",
    "    t1 = time.time()\n",
    "    X = np.arange(size_of_vec)\n",
    "    Y = np.arange(size_of_vec)\n",
    "    Z = X + Y\n",
    "    return time.time() - t1\n",
    "\n",
    "\n",
    "t1 = pure_python_version()\n",
    "t2 = numpy_version()\n",
    "print(t1, t2)\n",
    "print(\"Numpy is in this example \" + str(t1/t2) + \" faster!\")\n"
   ]
  },
  {
   "cell_type": "markdown",
   "metadata": {},
   "source": [
    "<strong>Functionality - SciPy and NumPy have optimized functions such as linear algebra operations built in.</strong>"
   ]
  },
  {
   "cell_type": "code",
   "execution_count": 5,
   "metadata": {},
   "outputs": [],
   "source": [
    "nums1 = [1,2,3,4,5]\n",
    "nums2 = [6,7,8,9,10]"
   ]
  },
  {
   "cell_type": "code",
   "execution_count": 6,
   "metadata": {},
   "outputs": [
    {
     "data": {
      "text/plain": [
       "[1, 2, 3, 4, 5, 6, 7, 8, 9, 10]"
      ]
     },
     "execution_count": 6,
     "metadata": {},
     "output_type": "execute_result"
    }
   ],
   "source": [
    "nums1 + nums2"
   ]
  },
  {
   "cell_type": "code",
   "execution_count": 7,
   "metadata": {},
   "outputs": [
    {
     "data": {
      "text/plain": [
       "[7, 9, 11, 13, 15]"
      ]
     },
     "execution_count": 7,
     "metadata": {},
     "output_type": "execute_result"
    }
   ],
   "source": [
    "[num1 + num2 for num1,num2 in zip(nums1,nums2)]"
   ]
  },
  {
   "cell_type": "code",
   "execution_count": 8,
   "metadata": {},
   "outputs": [
    {
     "data": {
      "text/plain": [
       "array([ 7,  9, 11, 13, 15])"
      ]
     },
     "execution_count": 8,
     "metadata": {},
     "output_type": "execute_result"
    }
   ],
   "source": [
    "np_nums1 = np.array(nums1)\n",
    "np_nums2 = np.array(nums2)\n",
    "\n",
    "np_nums1 + np_nums2"
   ]
  },
  {
   "cell_type": "code",
   "execution_count": 9,
   "metadata": {},
   "outputs": [
    {
     "data": {
      "text/plain": [
       "array([ 6, 14, 24, 36, 50])"
      ]
     },
     "execution_count": 9,
     "metadata": {},
     "output_type": "execute_result"
    }
   ],
   "source": [
    "np_nums1 * np_nums2"
   ]
  }
 ],
 "metadata": {
  "kernelspec": {
   "display_name": "Python 3",
   "language": "python",
   "name": "python3"
  },
  "language_info": {
   "codemirror_mode": {
    "name": "ipython",
    "version": 3
   },
   "file_extension": ".py",
   "mimetype": "text/x-python",
   "name": "python",
   "nbconvert_exporter": "python",
   "pygments_lexer": "ipython3",
   "version": "3.7.9"
  }
 },
 "nbformat": 4,
 "nbformat_minor": 4
}
