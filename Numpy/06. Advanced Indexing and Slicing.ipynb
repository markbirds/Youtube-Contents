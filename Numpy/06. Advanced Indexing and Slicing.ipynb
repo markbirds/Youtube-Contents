{
 "cells": [
  {
   "cell_type": "markdown",
   "metadata": {},
   "source": [
    "## Advanced Indexing and Slicing"
   ]
  },
  {
   "cell_type": "code",
   "execution_count": 1,
   "metadata": {},
   "outputs": [],
   "source": [
    "import numpy as np"
   ]
  },
  {
   "cell_type": "code",
   "execution_count": 2,
   "metadata": {},
   "outputs": [
    {
     "name": "stdout",
     "output_type": "stream",
     "text": [
      "Sample Array\n",
      " [[ 0  1  2  3  4  5]\n",
      " [ 6  7  8  9 10 11]\n",
      " [12 13 14 15 16 17]\n",
      " [18 19 20 21 22 23]]\n"
     ]
    }
   ],
   "source": [
    "arr1 = np.arange(24).reshape(4,6)\n",
    "print('Sample Array\\n',arr1)"
   ]
  },
  {
   "cell_type": "code",
   "execution_count": 3,
   "metadata": {},
   "outputs": [
    {
     "name": "stdout",
     "output_type": "stream",
     "text": [
      "2nd row,3rd element:  8\n"
     ]
    }
   ],
   "source": [
    "print('2nd row,3rd element: ',arr1[1,2])"
   ]
  },
  {
   "cell_type": "code",
   "execution_count": 4,
   "metadata": {},
   "outputs": [
    {
     "name": "stdout",
     "output_type": "stream",
     "text": [
      "3rd row,2nd element and 2nd to the last element:  [13 16]\n"
     ]
    }
   ],
   "source": [
    "print('3rd row,2nd element and 2nd to the last element: ',arr1[2,[1,-2]])"
   ]
  },
  {
   "cell_type": "code",
   "execution_count": 5,
   "metadata": {},
   "outputs": [
    {
     "name": "stdout",
     "output_type": "stream",
     "text": [
      "3rd column until end:\n",
      " [[ 2  3  4  5]\n",
      " [ 8  9 10 11]\n",
      " [14 15 16 17]\n",
      " [20 21 22 23]]\n"
     ]
    }
   ],
   "source": [
    "print('3rd column until end:\\n',arr1[:,2:])"
   ]
  },
  {
   "cell_type": "code",
   "execution_count": 6,
   "metadata": {},
   "outputs": [
    {
     "name": "stdout",
     "output_type": "stream",
     "text": [
      "\n",
      "First column and last column:\n",
      " [[ 0  5]\n",
      " [ 6 11]\n",
      " [12 17]\n",
      " [18 23]]\n"
     ]
    }
   ],
   "source": [
    "print('\\nFirst column and last column:\\n',arr1[:,[0,-1]])"
   ]
  },
  {
   "cell_type": "code",
   "execution_count": 7,
   "metadata": {},
   "outputs": [
    {
     "name": "stdout",
     "output_type": "stream",
     "text": [
      "\n",
      "Elements in corners:\n",
      " [[ 0  5]\n",
      " [18 23]]\n"
     ]
    }
   ],
   "source": [
    "print('\\nElements in corners:\\n',arr1[[[0],[-1]],[[0,-1],[0,-1]]])"
   ]
  },
  {
   "cell_type": "code",
   "execution_count": 8,
   "metadata": {},
   "outputs": [
    {
     "data": {
      "text/plain": [
       "array([[ 1,  3,  5],\n",
       "       [ 7,  9, 11],\n",
       "       [13, 15, 17],\n",
       "       [19, 21, 23]])"
      ]
     },
     "execution_count": 8,
     "metadata": {},
     "output_type": "execute_result"
    }
   ],
   "source": [
    "arr1[:,[1,3,5]]"
   ]
  },
  {
   "cell_type": "code",
   "execution_count": 9,
   "metadata": {},
   "outputs": [
    {
     "name": "stdout",
     "output_type": "stream",
     "text": [
      "Sample Array\n",
      " [[ 0  1  2  3  4  5]\n",
      " [ 6  7  8  9 10 11]\n",
      " [12 13 14 15 16 17]\n",
      " [18 19 20 21 22 23]]\n",
      "\n",
      "2nd row,3rd element:  8\n",
      "\n",
      "3rd row,2nd element and 2nd to the last element:\n",
      " [13 16]\n",
      "\n",
      "3rd column until end:\n",
      " [[ 2  3  4  5]\n",
      " [ 8  9 10 11]\n",
      " [14 15 16 17]\n",
      " [20 21 22 23]]\n",
      "\n",
      "First column and last column:\n",
      " [[ 0  5]\n",
      " [ 6 11]\n",
      " [12 17]\n",
      " [18 23]]\n",
      "\n",
      "Elements in corners:\n",
      " [[ 0  5]\n",
      " [18 23]]\n",
      "\n",
      "Odd elements:\n",
      " [ 1  3  5  7  9 11 13 15 17 19 21 23]\n"
     ]
    }
   ],
   "source": [
    "arr1 = np.arange(24).reshape(4,6)\n",
    "\n",
    "print('Sample Array\\n',arr1)\n",
    "\n",
    "print('\\n2nd row,3rd element: ',arr1[1,2])\n",
    "print('\\n3rd row,2nd element and 2nd to the last element:\\n',arr1[2,[1,-2]])\n",
    "print('\\n3rd column until end:\\n',arr1[:,2:])\n",
    "print('\\nFirst column and last column:\\n',np.transpose(np.hstack(arr1[:,[[0],[-1]]])))\n",
    "print('\\nElements in corners:\\n',arr1[[[0],[-1]],[[0,-1],[0,-1]]])\n",
    "print('\\nOdd elements:\\n',arr1[arr1%2!=0])"
   ]
  }
 ],
 "metadata": {
  "kernelspec": {
   "display_name": "Python 3",
   "language": "python",
   "name": "python3"
  },
  "language_info": {
   "codemirror_mode": {
    "name": "ipython",
    "version": 3
   },
   "file_extension": ".py",
   "mimetype": "text/x-python",
   "name": "python",
   "nbconvert_exporter": "python",
   "pygments_lexer": "ipython3",
   "version": "3.7.9"
  }
 },
 "nbformat": 4,
 "nbformat_minor": 4
}
