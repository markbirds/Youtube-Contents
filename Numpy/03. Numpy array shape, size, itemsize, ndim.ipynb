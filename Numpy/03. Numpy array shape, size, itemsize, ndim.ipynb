{
 "cells": [
  {
   "cell_type": "markdown",
   "metadata": {},
   "source": [
    "## Numpy array shape, size, itemsize, ndim"
   ]
  },
  {
   "cell_type": "code",
   "execution_count": 1,
   "metadata": {},
   "outputs": [],
   "source": [
    "import numpy as np"
   ]
  },
  {
   "cell_type": "code",
   "execution_count": 2,
   "metadata": {},
   "outputs": [
    {
     "name": "stdout",
     "output_type": "stream",
     "text": [
      "(3,)\n",
      "(2, 3)\n",
      "(2, 2, 3)\n"
     ]
    }
   ],
   "source": [
    "#One dimensional\n",
    "arr1 = np.array([1,2,3])\n",
    "#Two dimensional\n",
    "arr2 = np.array([[1,2,3],[4,5,6]],dtype='int64')\n",
    "#Three dimensional\n",
    "arr3 = np.array([\n",
    "    [[1,2,3],[4,5,6]],\n",
    "    [[7,8,9],[10,11,12]]\n",
    "])\n",
    "\n",
    "print(arr1.shape)\n",
    "print(arr2.shape)\n",
    "print(arr3.shape)"
   ]
  },
  {
   "cell_type": "code",
   "execution_count": 3,
   "metadata": {},
   "outputs": [
    {
     "name": "stdout",
     "output_type": "stream",
     "text": [
      "size returns the number of items regardless of dimension of the array\n",
      "itemsize return the number of bytes of each element in the array\n",
      "\n",
      "One dimensional array:\n",
      " [1 2 3]\n",
      "Size:  3\n",
      "Item Size:  4\n",
      "Dimension:  1\n",
      "\n",
      "Two dimensional array:\n",
      " [[1 2 3]\n",
      " [4 5 6]]\n",
      "Size:  6\n",
      "Item Size:  8\n",
      "Dimension:  2\n",
      "\n",
      "Three dimensional array:\n",
      " [[[ 1  2  3]\n",
      "  [ 4  5  6]]\n",
      "\n",
      " [[ 7  8  9]\n",
      "  [10 11 12]]]\n",
      "Size:  12\n",
      "Item Size:  4\n",
      "Dimension:  3\n"
     ]
    }
   ],
   "source": [
    "print('size returns the number of items regardless of dimension of the array')\n",
    "print('itemsize return the number of bytes of each element in the array\\n')\n",
    "print('One dimensional array:\\n',arr1)\n",
    "print('Size: ',arr1.size)\n",
    "print('Item Size: ',arr1.itemsize)\n",
    "print('Dimension: ',arr1.ndim)\n",
    "print('\\nTwo dimensional array:\\n',arr2)\n",
    "print('Size: ',arr2.size)\n",
    "print('Item Size: ',arr2.itemsize)\n",
    "print('Dimension: ',arr2.ndim)\n",
    "print('\\nThree dimensional array:\\n',arr3)\n",
    "print('Size: ',arr3.size)\n",
    "print('Item Size: ',arr3.itemsize)\n",
    "print('Dimension: ',arr3.ndim)"
   ]
  },
  {
   "cell_type": "code",
   "execution_count": 4,
   "metadata": {},
   "outputs": [
    {
     "data": {
      "text/plain": [
       "8"
      ]
     },
     "execution_count": 4,
     "metadata": {},
     "output_type": "execute_result"
    }
   ],
   "source": [
    "arr3[1,0,1]"
   ]
  }
 ],
 "metadata": {
  "kernelspec": {
   "display_name": "Python 3",
   "language": "python",
   "name": "python3"
  },
  "language_info": {
   "codemirror_mode": {
    "name": "ipython",
    "version": 3
   },
   "file_extension": ".py",
   "mimetype": "text/x-python",
   "name": "python",
   "nbconvert_exporter": "python",
   "pygments_lexer": "ipython3",
   "version": "3.7.9"
  }
 },
 "nbformat": 4,
 "nbformat_minor": 4
}
