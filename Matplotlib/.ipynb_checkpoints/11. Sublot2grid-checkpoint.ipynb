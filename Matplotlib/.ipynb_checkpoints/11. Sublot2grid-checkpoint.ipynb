{
 "cells": [
  {
   "cell_type": "markdown",
   "id": "breeding-ridge",
   "metadata": {},
   "source": [
    "## Sublot2grid"
   ]
  },
  {
   "cell_type": "code",
   "execution_count": 1,
   "id": "civic-plenty",
   "metadata": {},
   "outputs": [],
   "source": [
    "import matplotlib.pyplot as plt\n",
    "import pandas as pd\n",
    "import numpy as np\n",
    "%matplotlib inline"
   ]
  },
  {
   "cell_type": "code",
   "execution_count": 2,
   "id": "unlikely-allergy",
   "metadata": {},
   "outputs": [],
   "source": [
    "df1 = pd.read_csv('data/covid.csv')"
   ]
  },
  {
   "cell_type": "code",
   "execution_count": 3,
   "id": "representative-combine",
   "metadata": {},
   "outputs": [
    {
     "data": {
      "text/html": [
       "<div>\n",
       "<style scoped>\n",
       "    .dataframe tbody tr th:only-of-type {\n",
       "        vertical-align: middle;\n",
       "    }\n",
       "\n",
       "    .dataframe tbody tr th {\n",
       "        vertical-align: top;\n",
       "    }\n",
       "\n",
       "    .dataframe thead th {\n",
       "        text-align: right;\n",
       "    }\n",
       "</style>\n",
       "<table border=\"1\" class=\"dataframe\">\n",
       "  <thead>\n",
       "    <tr style=\"text-align: right;\">\n",
       "      <th></th>\n",
       "      <th>Country/Region</th>\n",
       "      <th>Confirmed</th>\n",
       "      <th>Deaths</th>\n",
       "      <th>Recovered</th>\n",
       "      <th>Active</th>\n",
       "      <th>New cases</th>\n",
       "      <th>New deaths</th>\n",
       "      <th>New recovered</th>\n",
       "      <th>Deaths / 100 Cases</th>\n",
       "      <th>Recovered / 100 Cases</th>\n",
       "      <th>Deaths / 100 Recovered</th>\n",
       "      <th>Confirmed last week</th>\n",
       "      <th>1 week change</th>\n",
       "      <th>1 week % increase</th>\n",
       "      <th>WHO Region</th>\n",
       "    </tr>\n",
       "  </thead>\n",
       "  <tbody>\n",
       "    <tr>\n",
       "      <th>0</th>\n",
       "      <td>Afghanistan</td>\n",
       "      <td>35615</td>\n",
       "      <td>1186</td>\n",
       "      <td>23741</td>\n",
       "      <td>10688</td>\n",
       "      <td>89</td>\n",
       "      <td>1</td>\n",
       "      <td>0</td>\n",
       "      <td>3.33</td>\n",
       "      <td>66.66</td>\n",
       "      <td>5.00</td>\n",
       "      <td>34740</td>\n",
       "      <td>875</td>\n",
       "      <td>2.52</td>\n",
       "      <td>Eastern Mediterranean</td>\n",
       "    </tr>\n",
       "    <tr>\n",
       "      <th>1</th>\n",
       "      <td>Albania</td>\n",
       "      <td>4290</td>\n",
       "      <td>117</td>\n",
       "      <td>2397</td>\n",
       "      <td>1776</td>\n",
       "      <td>119</td>\n",
       "      <td>4</td>\n",
       "      <td>45</td>\n",
       "      <td>2.73</td>\n",
       "      <td>55.87</td>\n",
       "      <td>4.88</td>\n",
       "      <td>3667</td>\n",
       "      <td>623</td>\n",
       "      <td>16.99</td>\n",
       "      <td>Europe</td>\n",
       "    </tr>\n",
       "    <tr>\n",
       "      <th>2</th>\n",
       "      <td>Algeria</td>\n",
       "      <td>24278</td>\n",
       "      <td>1100</td>\n",
       "      <td>16646</td>\n",
       "      <td>6532</td>\n",
       "      <td>587</td>\n",
       "      <td>13</td>\n",
       "      <td>246</td>\n",
       "      <td>4.53</td>\n",
       "      <td>68.56</td>\n",
       "      <td>6.61</td>\n",
       "      <td>20216</td>\n",
       "      <td>4062</td>\n",
       "      <td>20.09</td>\n",
       "      <td>Africa</td>\n",
       "    </tr>\n",
       "    <tr>\n",
       "      <th>3</th>\n",
       "      <td>Andorra</td>\n",
       "      <td>884</td>\n",
       "      <td>52</td>\n",
       "      <td>803</td>\n",
       "      <td>29</td>\n",
       "      <td>0</td>\n",
       "      <td>0</td>\n",
       "      <td>0</td>\n",
       "      <td>5.88</td>\n",
       "      <td>90.84</td>\n",
       "      <td>6.48</td>\n",
       "      <td>861</td>\n",
       "      <td>23</td>\n",
       "      <td>2.67</td>\n",
       "      <td>Europe</td>\n",
       "    </tr>\n",
       "    <tr>\n",
       "      <th>4</th>\n",
       "      <td>Angola</td>\n",
       "      <td>779</td>\n",
       "      <td>30</td>\n",
       "      <td>221</td>\n",
       "      <td>528</td>\n",
       "      <td>30</td>\n",
       "      <td>1</td>\n",
       "      <td>0</td>\n",
       "      <td>3.85</td>\n",
       "      <td>28.37</td>\n",
       "      <td>13.57</td>\n",
       "      <td>541</td>\n",
       "      <td>238</td>\n",
       "      <td>43.99</td>\n",
       "      <td>Africa</td>\n",
       "    </tr>\n",
       "  </tbody>\n",
       "</table>\n",
       "</div>"
      ],
      "text/plain": [
       "  Country/Region  Confirmed  Deaths  Recovered  Active  New cases  New deaths  \\\n",
       "0    Afghanistan      35615    1186      23741   10688         89           1   \n",
       "1        Albania       4290     117       2397    1776        119           4   \n",
       "2        Algeria      24278    1100      16646    6532        587          13   \n",
       "3        Andorra        884      52        803      29          0           0   \n",
       "4         Angola        779      30        221     528         30           1   \n",
       "\n",
       "   New recovered  Deaths / 100 Cases  Recovered / 100 Cases  \\\n",
       "0              0                3.33                  66.66   \n",
       "1             45                2.73                  55.87   \n",
       "2            246                4.53                  68.56   \n",
       "3              0                5.88                  90.84   \n",
       "4              0                3.85                  28.37   \n",
       "\n",
       "   Deaths / 100 Recovered  Confirmed last week  1 week change  \\\n",
       "0                    5.00                34740            875   \n",
       "1                    4.88                 3667            623   \n",
       "2                    6.61                20216           4062   \n",
       "3                    6.48                  861             23   \n",
       "4                   13.57                  541            238   \n",
       "\n",
       "   1 week % increase             WHO Region  \n",
       "0               2.52  Eastern Mediterranean  \n",
       "1              16.99                 Europe  \n",
       "2              20.09                 Africa  \n",
       "3               2.67                 Europe  \n",
       "4              43.99                 Africa  "
      ]
     },
     "execution_count": 3,
     "metadata": {},
     "output_type": "execute_result"
    }
   ],
   "source": [
    "df1.head()"
   ]
  },
  {
   "cell_type": "code",
   "execution_count": 4,
   "id": "instructional-martin",
   "metadata": {},
   "outputs": [
    {
     "data": {
      "text/plain": [
       "(187, 15)"
      ]
     },
     "execution_count": 4,
     "metadata": {},
     "output_type": "execute_result"
    }
   ],
   "source": [
    "df1.shape"
   ]
  },
  {
   "cell_type": "code",
   "execution_count": 5,
   "id": "imported-attraction",
   "metadata": {},
   "outputs": [
    {
     "data": {
      "image/png": "[encoded data removed]",
      "text/plain": [
       "<Figure size 432x288 with 3 Axes>"
      ]
     },
     "metadata": {
      "needs_background": "light"
     },
     "output_type": "display_data"
    }
   ],
   "source": [
    "ax1 = plt.subplot2grid((2,3),(0,0),rowspan=2,colspan=2)\n",
    "ax2 = plt.subplot2grid((2,3),(0,2))\n",
    "ax3 = plt.subplot2grid((2,3),(1,2))\n",
    "\n",
    "plt.tight_layout()\n",
    "dataframe1 = df1.groupby('WHO Region').Confirmed.sum().sort_values()\n",
    "dataframe2 = df1[['Active','Recovered','Deaths']].sum()\n",
    "dataframe3 = df1[['New cases','New recovered','New deaths']].sum()\n",
    "ax1.barh(dataframe1.index,dataframe1/1000000)\n",
    "ax1.set_title('Confirmed Cases from different Regions')\n",
    "ax1.set_xlabel('Million')\n",
    "ax2.pie(dataframe2,labels=dataframe2.index)\n",
    "ax3.pie(dataframe3,labels=dataframe3.index)\n",
    "plt.show()"
   ]
  }
 ],
 "metadata": {
  "kernelspec": {
   "display_name": "Python 3",
   "language": "python",
   "name": "python3"
  },
  "language_info": {
   "codemirror_mode": {
    "name": "ipython",
    "version": 3
   },
   "file_extension": ".py",
   "mimetype": "text/x-python",
   "name": "python",
   "nbconvert_exporter": "python",
   "pygments_lexer": "ipython3",
   "version": "3.7.9"
  }
 },
 "nbformat": 4,
 "nbformat_minor": 5
}
