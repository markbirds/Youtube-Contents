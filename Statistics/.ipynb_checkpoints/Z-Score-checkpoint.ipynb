{
 "cells": [
  {
   "cell_type": "code",
   "execution_count": 1,
   "id": "judicial-japan",
   "metadata": {},
   "outputs": [],
   "source": [
    "import numpy as np\n",
    "import matplotlib.pyplot as plt\n",
    "import seaborn as sns\n",
    "import statistics"
   ]
  },
  {
   "cell_type": "code",
   "execution_count": 2,
   "id": "announced-pencil",
   "metadata": {},
   "outputs": [
    {
     "data": {
      "text/plain": [
       "array([71, 82, 87, 71, 86, 85, 75, 78, 73, 95, 91, 79, 84, 80, 84, 83, 72,\n",
       "       79, 90, 75, 80, 85, 78, 79, 90, 81, 86, 77, 79, 86, 71, 76, 80, 78,\n",
       "       79, 88, 91, 81, 81, 82, 84, 88, 73, 96, 72, 78, 87, 82, 85, 82, 80,\n",
       "       87, 78, 84, 78, 81, 87, 89, 97, 72, 88, 86, 81, 83, 76, 87, 75, 84,\n",
       "       84, 88, 77, 75, 84, 87, 76, 81, 87, 77, 81, 91, 78, 81, 83, 84, 74,\n",
       "       87, 84, 81, 74, 78, 76, 80, 74, 80, 88, 81, 70, 75, 83, 88])"
      ]
     },
     "execution_count": 2,
     "metadata": {},
     "output_type": "execute_result"
    }
   ],
   "source": [
    "scores = np.random.normal(loc=82, scale=6, size=(100)).astype('int')\n",
    "scores"
   ]
  },
  {
   "cell_type": "code",
   "execution_count": 3,
   "id": "demonstrated-competition",
   "metadata": {},
   "outputs": [
    {
     "data": {
      "text/plain": [
       "<seaborn.axisgrid.FacetGrid at 0x1a461b32b48>"
      ]
     },
     "execution_count": 3,
     "metadata": {},
     "output_type": "execute_result"
    },
    {
     "data": {
      "image/png": "[encoded data removed]",
      "text/plain": [
       "<Figure size 360x360 with 1 Axes>"
      ]
     },
     "metadata": {
      "needs_background": "light"
     },
     "output_type": "display_data"
    }
   ],
   "source": [
    "sns.displot(scores)"
   ]
  },
  {
   "cell_type": "code",
   "execution_count": 4,
   "id": "other-coating",
   "metadata": {},
   "outputs": [
    {
     "data": {
      "image/png": "[encoded data removed]",
      "text/plain": [
       "<Figure size 720x432 with 1 Axes>"
      ]
     },
     "metadata": {
      "needs_background": "light"
     },
     "output_type": "display_data"
    }
   ],
   "source": [
    "plt.figure(figsize=(10,6))\n",
    "sns.kdeplot(scores)\n",
    "plt.show()"
   ]
  },
  {
   "cell_type": "code",
   "execution_count": 5,
   "id": "scientific-subcommittee",
   "metadata": {},
   "outputs": [
    {
     "data": {
      "text/plain": [
       "81"
      ]
     },
     "execution_count": 5,
     "metadata": {},
     "output_type": "execute_result"
    }
   ],
   "source": [
    "mean = statistics.mean(scores)\n",
    "mean"
   ]
  },
  {
   "cell_type": "code",
   "execution_count": 6,
   "id": "czech-geography",
   "metadata": {},
   "outputs": [
    {
     "data": {
      "text/plain": [
       "5.830951894845301"
      ]
     },
     "execution_count": 6,
     "metadata": {},
     "output_type": "execute_result"
    }
   ],
   "source": [
    "standard_deviation = statistics.stdev(scores)\n",
    "standard_deviation"
   ]
  },
  {
   "cell_type": "code",
   "execution_count": 7,
   "id": "floral-statement",
   "metadata": {},
   "outputs": [
    {
     "data": {
      "text/plain": [
       "86.8309518948453"
      ]
     },
     "execution_count": 7,
     "metadata": {},
     "output_type": "execute_result"
    }
   ],
   "source": [
    "one_std_above = mean + standard_deviation\n",
    "one_std_above"
   ]
  },
  {
   "cell_type": "code",
   "execution_count": 8,
   "id": "deluxe-pharmaceutical",
   "metadata": {},
   "outputs": [
    {
     "data": {
      "text/plain": [
       "array([82, 86, 85, 84, 84, 83, 85, 86, 86, 82, 84, 82, 85, 82, 84, 86, 83,\n",
       "       84, 84, 84, 83, 84, 84, 83])"
      ]
     },
     "execution_count": 8,
     "metadata": {},
     "output_type": "execute_result"
    }
   ],
   "source": [
    "one_std_between = scores[(scores>mean)&(scores<one_std_above)]\n",
    "one_std_between"
   ]
  },
  {
   "cell_type": "code",
   "execution_count": 9,
   "id": "coated-camcorder",
   "metadata": {},
   "outputs": [
    {
     "data": {
      "text/plain": [
       "0.24"
      ]
     },
     "execution_count": 9,
     "metadata": {},
     "output_type": "execute_result"
    }
   ],
   "source": [
    "len(one_std_between)/100"
   ]
  },
  {
   "cell_type": "code",
   "execution_count": 10,
   "id": "historic-contemporary",
   "metadata": {},
   "outputs": [
    {
     "data": {
      "text/plain": [
       "1.5434872662825794"
      ]
     },
     "execution_count": 10,
     "metadata": {},
     "output_type": "execute_result"
    }
   ],
   "source": [
    "z = (90 - mean) / standard_deviation\n",
    "z"
   ]
  },
  {
   "cell_type": "code",
   "execution_count": 11,
   "id": "published-combining",
   "metadata": {},
   "outputs": [
    {
     "data": {
      "text/plain": [
       "0.92"
      ]
     },
     "execution_count": 11,
     "metadata": {},
     "output_type": "execute_result"
    }
   ],
   "source": [
    "len(scores[scores<90])/100"
   ]
  },
  {
   "cell_type": "code",
   "execution_count": 12,
   "id": "owned-denver",
   "metadata": {},
   "outputs": [
    {
     "data": {
      "text/plain": [
       "-1.8864844365675972"
      ]
     },
     "execution_count": 12,
     "metadata": {},
     "output_type": "execute_result"
    }
   ],
   "source": [
    "z = (70 - mean) / standard_deviation\n",
    "z"
   ]
  }
 ],
 "metadata": {
  "kernelspec": {
   "display_name": "Python 3",
   "language": "python",
   "name": "python3"
  },
  "language_info": {
   "codemirror_mode": {
    "name": "ipython",
    "version": 3
   },
   "file_extension": ".py",
   "mimetype": "text/x-python",
   "name": "python",
   "nbconvert_exporter": "python",
   "pygments_lexer": "ipython3",
   "version": "3.7.9"
  }
 },
 "nbformat": 4,
 "nbformat_minor": 5
}
