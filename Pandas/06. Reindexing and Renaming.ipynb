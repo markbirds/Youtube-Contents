{
 "cells": [
  {
   "cell_type": "markdown",
   "metadata": {},
   "source": [
    "## Reindexing and Renaming"
   ]
  },
  {
   "cell_type": "code",
   "execution_count": 1,
   "metadata": {},
   "outputs": [],
   "source": [
    "import numpy as np\n",
    "import pandas as pd"
   ]
  },
  {
   "cell_type": "code",
   "execution_count": 2,
   "metadata": {
    "scrolled": true
   },
   "outputs": [
    {
     "name": "stdout",
     "output_type": "stream",
     "text": [
      "Sample DataFrame:\n",
      "     A   B   C    D   E\n",
      "0  38  32  20   29  21\n",
      "1  31  45  85   30  22\n",
      "2  55  11  94   42  46\n",
      "3  96  88  89   38  58\n",
      "4  96  41  33  100  47\n",
      "5  87  50  35   33  60\n",
      "6  19  85  27   67   4\n",
      "7  77  69  88   16  42\n",
      "8  59  52  29   95  50\n",
      "9  35  50  18    5  17\n"
     ]
    }
   ],
   "source": [
    "df = pd.DataFrame(np.random.randint(1,101,(10,5)),columns=np.array(list('ABCDE')))\n",
    "print('Sample DataFrame:\\n',df)"
   ]
  },
  {
   "cell_type": "code",
   "execution_count": 3,
   "metadata": {},
   "outputs": [
    {
     "name": "stdout",
     "output_type": "stream",
     "text": [
      "Use reindex to rearrange rows and columns:\n",
      "     E   C   A\n",
      "9  17  18  35\n",
      "6   4  27  19\n",
      "3  58  89  96\n",
      "0  21  20  38\n"
     ]
    }
   ],
   "source": [
    "print('Use reindex to rearrange rows and columns:\\n',df.reindex(index=[9,6,3,0],columns=['E','C','A']))"
   ]
  },
  {
   "cell_type": "code",
   "execution_count": 4,
   "metadata": {},
   "outputs": [
    {
     "name": "stdout",
     "output_type": "stream",
     "text": [
      "Sample DataFrame:\n",
      "     A   B   C    D   E\n",
      "0  38  32  20   29  21\n",
      "1  31  45  85   30  22\n",
      "2  55  11  94   42  46\n",
      "3  96  88  89   38  58\n",
      "4  96  41  33  100  47\n",
      "5  87  50  35   33  60\n",
      "6  19  85  27   67   4\n",
      "7  77  69  88   16  42\n",
      "8  59  52  29   95  50\n",
      "9  35  50  18    5  17\n"
     ]
    }
   ],
   "source": [
    "print('Sample DataFrame:\\n',df)"
   ]
  },
  {
   "cell_type": "code",
   "execution_count": 5,
   "metadata": {},
   "outputs": [
    {
     "name": "stdout",
     "output_type": "stream",
     "text": [
      "Rename Columns A,C and E:\n",
      "    Column A   B  Column C    D  Column E\n",
      "0        38  32        20   29        21\n",
      "1        31  45        85   30        22\n",
      "2        55  11        94   42        46\n",
      "3        96  88        89   38        58\n",
      "4        96  41        33  100        47\n",
      "5        87  50        35   33        60\n",
      "6        19  85        27   67         4\n",
      "7        77  69        88   16        42\n",
      "8        59  52        29   95        50\n",
      "9        35  50        18    5        17\n"
     ]
    }
   ],
   "source": [
    "print('Rename Columns A,C and E:\\n',df.rename(columns={'A':'Column A','C':'Column C','E':'Column E'}))"
   ]
  }
 ],
 "metadata": {
  "kernelspec": {
   "display_name": "Python 3",
   "language": "python",
   "name": "python3"
  },
  "language_info": {
   "codemirror_mode": {
    "name": "ipython",
    "version": 3
   },
   "file_extension": ".py",
   "mimetype": "text/x-python",
   "name": "python",
   "nbconvert_exporter": "python",
   "pygments_lexer": "ipython3",
   "version": "3.7.9"
  }
 },
 "nbformat": 4,
 "nbformat_minor": 4
}
