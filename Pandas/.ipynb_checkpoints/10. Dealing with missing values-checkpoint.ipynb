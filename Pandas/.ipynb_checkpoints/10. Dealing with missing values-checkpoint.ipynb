{
 "cells": [
  {
   "cell_type": "markdown",
   "metadata": {},
   "source": [
    "## Dealing with missing values"
   ]
  },
  {
   "cell_type": "code",
   "execution_count": 1,
   "metadata": {},
   "outputs": [],
   "source": [
    "import numpy as np\n",
    "import pandas as pd"
   ]
  },
  {
   "cell_type": "markdown",
   "metadata": {},
   "source": [
    "### Check for Missing Data / Null Values"
   ]
  },
  {
   "cell_type": "code",
   "execution_count": 2,
   "metadata": {},
   "outputs": [
    {
     "name": "stdout",
     "output_type": "stream",
     "text": [
      "Sample DataFrame:\n",
      "\n",
      "    column one  column two  column three\n",
      "a        90.0        68.0          71.0\n",
      "b         NaN         NaN           NaN\n",
      "c         5.0        73.0          18.0\n",
      "d         NaN         NaN           NaN\n",
      "e        25.0        16.0          43.0\n",
      "f        46.0        15.0          50.0\n",
      "g         NaN         NaN           NaN\n",
      "h        67.0        64.0          30.0\n"
     ]
    }
   ],
   "source": [
    "df = pd.DataFrame(np.random.randint(1, 101,(5,3)), index=['a', 'c', 'e', 'f',\n",
    "'h'],columns=['column one', 'column two', 'column three'])\n",
    "df = df.reindex(['a', 'b', 'c', 'd', 'e', 'f', 'g', 'h'])\n",
    "\n",
    "print('Sample DataFrame:\\n\\n',df)"
   ]
  },
  {
   "cell_type": "code",
   "execution_count": 3,
   "metadata": {},
   "outputs": [
    {
     "name": "stdout",
     "output_type": "stream",
     "text": [
      "Is null:\n",
      "    column one  column two  column three\n",
      "a       False       False         False\n",
      "b        True        True          True\n",
      "c       False       False         False\n",
      "d        True        True          True\n",
      "e       False       False         False\n",
      "f       False       False         False\n",
      "g        True        True          True\n",
      "h       False       False         False\n"
     ]
    }
   ],
   "source": [
    "print('Is null:\\n',df.isnull())"
   ]
  },
  {
   "cell_type": "code",
   "execution_count": 4,
   "metadata": {},
   "outputs": [
    {
     "name": "stdout",
     "output_type": "stream",
     "text": [
      "Is null:\n",
      " column one      3\n",
      "column two      3\n",
      "column three    3\n",
      "dtype: int64\n"
     ]
    }
   ],
   "source": [
    "print('Is null:\\n',df.isnull().sum())"
   ]
  },
  {
   "cell_type": "code",
   "execution_count": 5,
   "metadata": {},
   "outputs": [
    {
     "name": "stdout",
     "output_type": "stream",
     "text": [
      "Is null:\n",
      " column one      True\n",
      "column two      True\n",
      "column three    True\n",
      "dtype: bool\n"
     ]
    }
   ],
   "source": [
    "print('Is null:\\n',df.isnull().any())"
   ]
  },
  {
   "cell_type": "code",
   "execution_count": 6,
   "metadata": {},
   "outputs": [
    {
     "name": "stdout",
     "output_type": "stream",
     "text": [
      "\n",
      "Not null:\n",
      "    column one  column two  column three\n",
      "a        True        True          True\n",
      "b       False       False         False\n",
      "c        True        True          True\n",
      "d       False       False         False\n",
      "e        True        True          True\n",
      "f        True        True          True\n",
      "g       False       False         False\n",
      "h        True        True          True\n"
     ]
    }
   ],
   "source": [
    "print('\\nNot null:\\n',df.notnull())"
   ]
  },
  {
   "cell_type": "code",
   "execution_count": 7,
   "metadata": {},
   "outputs": [
    {
     "name": "stdout",
     "output_type": "stream",
     "text": [
      "Sample DataFrame:\n",
      "\n",
      "    Column1  Column2  Column3\n",
      "0       12     11.0       10\n",
      "1       14      NaN       14\n",
      "2       13     11.0       10\n"
     ]
    }
   ],
   "source": [
    "df = pd.DataFrame(np.random.randint(10,15,(3,3)),columns=['Column1','Column2','Column3'])\n",
    "df.iloc[np.random.randint(0,3),np.random.randint(0,3,3)] = np.nan\n",
    "\n",
    "print('Sample DataFrame:\\n\\n',df)"
   ]
  },
  {
   "cell_type": "code",
   "execution_count": 8,
   "metadata": {},
   "outputs": [
    {
     "name": "stdout",
     "output_type": "stream",
     "text": [
      "Calculations with missing data:\n",
      "\n",
      "      Column1  Column2    Column3\n",
      "sum      39.0     22.0  34.000000\n",
      "mean     13.0     11.0  11.333333\n"
     ]
    }
   ],
   "source": [
    "print('Calculations with missing data:\\n')\n",
    "print(df.agg([np.sum,np.mean]))"
   ]
  },
  {
   "cell_type": "markdown",
   "metadata": {},
   "source": [
    "### Filling and dropping missing values"
   ]
  },
  {
   "cell_type": "code",
   "execution_count": 9,
   "metadata": {},
   "outputs": [
    {
     "name": "stdout",
     "output_type": "stream",
     "text": [
      "Sample DataFrame:\n",
      "\n",
      "          day  temperature   event\n",
      "0 2020-07-01         37.0   Rainy\n",
      "1 2020-07-02         22.0     NaN\n",
      "2 2020-07-03          NaN     NaN\n",
      "3 2020-07-04          NaN     NaN\n",
      "4 2020-07-05         19.0     NaN\n",
      "5 2020-07-06          NaN     NaN\n",
      "6 2020-07-07          NaN     NaN\n",
      "7 2020-07-08         34.0  Cloudy\n",
      "8 2020-07-09          NaN     NaN\n",
      "9 2020-07-10         30.0  Cloudy\n"
     ]
    }
   ],
   "source": [
    "df = pd.DataFrame({'day':pd.date_range('07/01/2020',periods=10),'temperature':np.random.randint(15,40,10),\n",
    "                   'event':[['Sunny','Rainy','Cloudy',np.nan,np.nan][np.random.randint(0,5)] for i in range(10)]})\n",
    "df.iloc[np.random.randint(0,10,5),1] = np.nan\n",
    "\n",
    "print('Sample DataFrame:\\n\\n',df)"
   ]
  },
  {
   "cell_type": "code",
   "execution_count": 10,
   "metadata": {},
   "outputs": [
    {
     "name": "stdout",
     "output_type": "stream",
     "text": [
      "Fill NaN values in temperature with 0 and in event with \"no event\":\n",
      "\n",
      "          day  temperature     event\n",
      "0 2020-07-01         37.0     Rainy\n",
      "1 2020-07-02         22.0  no event\n",
      "2 2020-07-03          0.0  no event\n",
      "3 2020-07-04          0.0  no event\n",
      "4 2020-07-05         19.0  no event\n",
      "5 2020-07-06          0.0  no event\n",
      "6 2020-07-07          0.0  no event\n",
      "7 2020-07-08         34.0    Cloudy\n",
      "8 2020-07-09          0.0  no event\n",
      "9 2020-07-10         30.0    Cloudy\n"
     ]
    }
   ],
   "source": [
    "print('Fill NaN values in temperature with 0 and in event with \"no event\":\\n\\n',\n",
    "      df.fillna({'temperature':0,'event':'no event'}))"
   ]
  },
  {
   "cell_type": "code",
   "execution_count": 11,
   "metadata": {},
   "outputs": [
    {
     "name": "stdout",
     "output_type": "stream",
     "text": [
      "Forward fill:\n",
      "\n",
      "          day  temperature   event\n",
      "0 2020-07-01         37.0   Rainy\n",
      "1 2020-07-02         22.0   Rainy\n",
      "2 2020-07-03         22.0   Rainy\n",
      "3 2020-07-04         22.0   Rainy\n",
      "4 2020-07-05         19.0   Rainy\n",
      "5 2020-07-06         19.0   Rainy\n",
      "6 2020-07-07         19.0   Rainy\n",
      "7 2020-07-08         34.0  Cloudy\n",
      "8 2020-07-09         34.0  Cloudy\n",
      "9 2020-07-10         30.0  Cloudy\n"
     ]
    }
   ],
   "source": [
    "print('Forward fill:\\n\\n',df.fillna(method='ffill'))"
   ]
  },
  {
   "cell_type": "code",
   "execution_count": 12,
   "metadata": {},
   "outputs": [
    {
     "name": "stdout",
     "output_type": "stream",
     "text": [
      "Backward fill:\n",
      "\n",
      "          day  temperature   event\n",
      "0 2020-07-01         37.0   Rainy\n",
      "1 2020-07-02         22.0  Cloudy\n",
      "2 2020-07-03         19.0  Cloudy\n",
      "3 2020-07-04         19.0  Cloudy\n",
      "4 2020-07-05         19.0  Cloudy\n",
      "5 2020-07-06         34.0  Cloudy\n",
      "6 2020-07-07         34.0  Cloudy\n",
      "7 2020-07-08         34.0  Cloudy\n",
      "8 2020-07-09         30.0  Cloudy\n",
      "9 2020-07-10         30.0  Cloudy\n"
     ]
    }
   ],
   "source": [
    "print('Backward fill:\\n\\n',df.fillna(method='bfill'))"
   ]
  },
  {
   "cell_type": "code",
   "execution_count": 13,
   "metadata": {},
   "outputs": [
    {
     "name": "stdout",
     "output_type": "stream",
     "text": [
      "Interpolate:\n",
      "\n",
      "          day  temperature   event\n",
      "0 2020-07-01         37.0   Rainy\n",
      "1 2020-07-02         22.0     NaN\n",
      "2 2020-07-03         21.0     NaN\n",
      "3 2020-07-04         20.0     NaN\n",
      "4 2020-07-05         19.0     NaN\n",
      "5 2020-07-06         24.0     NaN\n",
      "6 2020-07-07         29.0     NaN\n",
      "7 2020-07-08         34.0  Cloudy\n",
      "8 2020-07-09         32.0     NaN\n",
      "9 2020-07-10         30.0  Cloudy\n"
     ]
    }
   ],
   "source": [
    "print('Interpolate:\\n\\n',df.interpolate())"
   ]
  },
  {
   "cell_type": "code",
   "execution_count": 14,
   "metadata": {},
   "outputs": [
    {
     "name": "stdout",
     "output_type": "stream",
     "text": [
      "\n",
      "Same DataFrame but different date range(no weekends):\n",
      "\n",
      "             temperature   event\n",
      "day                            \n",
      "2020-07-01         37.0   Rainy\n",
      "2020-07-02         22.0     NaN\n",
      "2020-07-03          NaN     NaN\n",
      "2020-07-06          NaN     NaN\n",
      "2020-07-07         19.0     NaN\n",
      "2020-07-08          NaN     NaN\n",
      "2020-07-09          NaN     NaN\n",
      "2020-07-10         34.0  Cloudy\n",
      "2020-07-13          NaN     NaN\n",
      "2020-07-14         30.0  Cloudy\n"
     ]
    }
   ],
   "source": [
    "new_df = df\n",
    "new_df['day'] = pd.date_range('07/01/2020',periods=10,freq='B')\n",
    "new_df.set_index('day',inplace=True)\n",
    "print('\\nSame DataFrame but different date range(no weekends):\\n\\n',new_df)"
   ]
  },
  {
   "cell_type": "code",
   "execution_count": 15,
   "metadata": {},
   "outputs": [
    {
     "name": "stdout",
     "output_type": "stream",
     "text": [
      "\n",
      "Interpolate biased on date:\n",
      "\n",
      "             temperature   event\n",
      "day                            \n",
      "2020-07-01         37.0   Rainy\n",
      "2020-07-02         22.0     NaN\n",
      "2020-07-03         21.4     NaN\n",
      "2020-07-06         19.6     NaN\n",
      "2020-07-07         19.0     NaN\n",
      "2020-07-08         24.0     NaN\n",
      "2020-07-09         29.0     NaN\n",
      "2020-07-10         34.0  Cloudy\n",
      "2020-07-13         31.0     NaN\n",
      "2020-07-14         30.0  Cloudy\n"
     ]
    }
   ],
   "source": [
    "print('\\nInterpolate biased on date:\\n\\n',new_df.interpolate(method='time'))"
   ]
  },
  {
   "cell_type": "code",
   "execution_count": 16,
   "metadata": {},
   "outputs": [
    {
     "name": "stdout",
     "output_type": "stream",
     "text": [
      "Sample DataFrame:\n",
      "\n",
      "             temperature   event\n",
      "day                            \n",
      "2020-07-01         37.0   Rainy\n",
      "2020-07-02         22.0     NaN\n",
      "2020-07-03          NaN     NaN\n",
      "2020-07-06          NaN     NaN\n",
      "2020-07-07         19.0     NaN\n",
      "2020-07-08          NaN     NaN\n",
      "2020-07-09          NaN     NaN\n",
      "2020-07-10         34.0  Cloudy\n",
      "2020-07-13          NaN     NaN\n",
      "2020-07-14         30.0  Cloudy\n"
     ]
    }
   ],
   "source": [
    "print('Sample DataFrame:\\n\\n',df)"
   ]
  },
  {
   "cell_type": "code",
   "execution_count": 17,
   "metadata": {},
   "outputs": [
    {
     "name": "stdout",
     "output_type": "stream",
     "text": [
      "\n",
      "Drop rows if any of the values were NaN:\n",
      "\n",
      "             temperature   event\n",
      "day                            \n",
      "2020-07-01         37.0   Rainy\n",
      "2020-07-10         34.0  Cloudy\n",
      "2020-07-14         30.0  Cloudy\n"
     ]
    }
   ],
   "source": [
    "print('\\nDrop rows if any of the values were NaN:\\n\\n',df.dropna())"
   ]
  },
  {
   "cell_type": "code",
   "execution_count": 18,
   "metadata": {},
   "outputs": [
    {
     "name": "stdout",
     "output_type": "stream",
     "text": [
      "\n",
      "Drop rows if all of the values in the row were NaN:\n",
      "\n",
      "             temperature   event\n",
      "day                            \n",
      "2020-07-01         37.0   Rainy\n",
      "2020-07-02         22.0     NaN\n",
      "2020-07-07         19.0     NaN\n",
      "2020-07-10         34.0  Cloudy\n",
      "2020-07-14         30.0  Cloudy\n"
     ]
    }
   ],
   "source": [
    "print('\\nDrop rows if all of the values in the row were NaN:\\n\\n',df.dropna(how='all'))"
   ]
  },
  {
   "cell_type": "code",
   "execution_count": 19,
   "metadata": {},
   "outputs": [
    {
     "name": "stdout",
     "output_type": "stream",
     "text": [
      "\n",
      "Keep rows with atleast 1 value otherwise drop:\n",
      "\n",
      "             temperature   event\n",
      "day                            \n",
      "2020-07-01         37.0   Rainy\n",
      "2020-07-02         22.0     NaN\n",
      "2020-07-07         19.0     NaN\n",
      "2020-07-10         34.0  Cloudy\n",
      "2020-07-14         30.0  Cloudy\n"
     ]
    }
   ],
   "source": [
    "print('\\nKeep rows with atleast 1 value otherwise drop:\\n\\n',df.dropna(thresh=1))"
   ]
  }
 ],
 "metadata": {
  "kernelspec": {
   "display_name": "Python 3",
   "language": "python",
   "name": "python3"
  },
  "language_info": {
   "codemirror_mode": {
    "name": "ipython",
    "version": 3
   },
   "file_extension": ".py",
   "mimetype": "text/x-python",
   "name": "python",
   "nbconvert_exporter": "python",
   "pygments_lexer": "ipython3",
   "version": "3.7.9"
  }
 },
 "nbformat": 4,
 "nbformat_minor": 4
}
