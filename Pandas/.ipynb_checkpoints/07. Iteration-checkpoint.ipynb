{
 "cells": [
  {
   "cell_type": "markdown",
   "metadata": {},
   "source": [
    "## Iteration"
   ]
  },
  {
   "cell_type": "code",
   "execution_count": 1,
   "metadata": {},
   "outputs": [],
   "source": [
    "import numpy as np\n",
    "import pandas as pd"
   ]
  },
  {
   "cell_type": "code",
   "execution_count": 2,
   "metadata": {},
   "outputs": [
    {
     "name": "stdout",
     "output_type": "stream",
     "text": [
      "Sample DataFrame:\n",
      "     A   B   C   D    E\n",
      "0  45  75  18  47   58\n",
      "1  55  99  13  32   95\n",
      "2  82  27  32  82   74\n",
      "3  59  94  82  54   69\n",
      "4  71  95  74  10   37\n",
      "5  21  83  34  55   69\n",
      "6  53  42  99   1   92\n",
      "7  42  74   4  49  100\n",
      "8  73  78  82  52   78\n",
      "9   4  37  53  26   24\n"
     ]
    }
   ],
   "source": [
    "df = pd.DataFrame(np.random.randint(1,101,(10,5)),columns=np.array(list('ABCDE')))\n",
    "print('Sample DataFrame:\\n',df)"
   ]
  },
  {
   "cell_type": "code",
   "execution_count": 3,
   "metadata": {},
   "outputs": [
    {
     "name": "stdout",
     "output_type": "stream",
     "text": [
      "Using iteritems()\n",
      "\n",
      "A\n",
      "0    45\n",
      "1    55\n",
      "2    82\n",
      "3    59\n",
      "4    71\n",
      "5    21\n",
      "6    53\n",
      "7    42\n",
      "8    73\n",
      "9     4\n",
      "Name: A, dtype: int32\n",
      "B\n",
      "0    75\n",
      "1    99\n",
      "2    27\n",
      "3    94\n",
      "4    95\n",
      "5    83\n",
      "6    42\n",
      "7    74\n",
      "8    78\n",
      "9    37\n",
      "Name: B, dtype: int32\n",
      "C\n",
      "0    18\n",
      "1    13\n",
      "2    32\n",
      "3    82\n",
      "4    74\n",
      "5    34\n",
      "6    99\n",
      "7     4\n",
      "8    82\n",
      "9    53\n",
      "Name: C, dtype: int32\n",
      "D\n",
      "0    47\n",
      "1    32\n",
      "2    82\n",
      "3    54\n",
      "4    10\n",
      "5    55\n",
      "6     1\n",
      "7    49\n",
      "8    52\n",
      "9    26\n",
      "Name: D, dtype: int32\n",
      "E\n",
      "0     58\n",
      "1     95\n",
      "2     74\n",
      "3     69\n",
      "4     37\n",
      "5     69\n",
      "6     92\n",
      "7    100\n",
      "8     78\n",
      "9     24\n",
      "Name: E, dtype: int32\n"
     ]
    }
   ],
   "source": [
    "print('Using iteritems()\\n')\n",
    "\n",
    "for column,values in df.iteritems():\n",
    "    print(column)\n",
    "    print(values)"
   ]
  },
  {
   "cell_type": "code",
   "execution_count": 4,
   "metadata": {},
   "outputs": [
    {
     "name": "stdout",
     "output_type": "stream",
     "text": [
      "Using iterrows()\n",
      "\n",
      "0\n",
      "A    45\n",
      "B    75\n",
      "C    18\n",
      "D    47\n",
      "E    58\n",
      "Name: 0, dtype: int32\n",
      "1\n",
      "A    55\n",
      "B    99\n",
      "C    13\n",
      "D    32\n",
      "E    95\n",
      "Name: 1, dtype: int32\n",
      "2\n",
      "A    82\n",
      "B    27\n",
      "C    32\n",
      "D    82\n",
      "E    74\n",
      "Name: 2, dtype: int32\n",
      "3\n",
      "A    59\n",
      "B    94\n",
      "C    82\n",
      "D    54\n",
      "E    69\n",
      "Name: 3, dtype: int32\n",
      "4\n",
      "A    71\n",
      "B    95\n",
      "C    74\n",
      "D    10\n",
      "E    37\n",
      "Name: 4, dtype: int32\n",
      "5\n",
      "A    21\n",
      "B    83\n",
      "C    34\n",
      "D    55\n",
      "E    69\n",
      "Name: 5, dtype: int32\n",
      "6\n",
      "A    53\n",
      "B    42\n",
      "C    99\n",
      "D     1\n",
      "E    92\n",
      "Name: 6, dtype: int32\n",
      "7\n",
      "A     42\n",
      "B     74\n",
      "C      4\n",
      "D     49\n",
      "E    100\n",
      "Name: 7, dtype: int32\n",
      "8\n",
      "A    73\n",
      "B    78\n",
      "C    82\n",
      "D    52\n",
      "E    78\n",
      "Name: 8, dtype: int32\n",
      "9\n",
      "A     4\n",
      "B    37\n",
      "C    53\n",
      "D    26\n",
      "E    24\n",
      "Name: 9, dtype: int32\n"
     ]
    }
   ],
   "source": [
    "print('Using iterrows()\\n')\n",
    "\n",
    "for row_index,row in df.iterrows():\n",
    "    print(row_index)\n",
    "    print(row)"
   ]
  },
  {
   "cell_type": "code",
   "execution_count": 5,
   "metadata": {},
   "outputs": [
    {
     "name": "stdout",
     "output_type": "stream",
     "text": [
      "Using itertuples()\n",
      "\n",
      "Pandas(Index=0, A=45, B=75, C=18, D=47, E=58)\n",
      "Pandas(Index=1, A=55, B=99, C=13, D=32, E=95)\n",
      "Pandas(Index=2, A=82, B=27, C=32, D=82, E=74)\n",
      "Pandas(Index=3, A=59, B=94, C=82, D=54, E=69)\n",
      "Pandas(Index=4, A=71, B=95, C=74, D=10, E=37)\n",
      "Pandas(Index=5, A=21, B=83, C=34, D=55, E=69)\n",
      "Pandas(Index=6, A=53, B=42, C=99, D=1, E=92)\n",
      "Pandas(Index=7, A=42, B=74, C=4, D=49, E=100)\n",
      "Pandas(Index=8, A=73, B=78, C=82, D=52, E=78)\n",
      "Pandas(Index=9, A=4, B=37, C=53, D=26, E=24)\n"
     ]
    }
   ],
   "source": [
    "print('Using itertuples()\\n')\n",
    "\n",
    "for row in df.itertuples():\n",
    "    print(row)"
   ]
  },
  {
   "cell_type": "code",
   "execution_count": 6,
   "metadata": {},
   "outputs": [
    {
     "name": "stdout",
     "output_type": "stream",
     "text": [
      "45\n",
      "55\n",
      "82\n",
      "59\n",
      "71\n",
      "21\n",
      "53\n",
      "42\n",
      "73\n",
      "4\n"
     ]
    }
   ],
   "source": [
    "for row in df.itertuples():\n",
    "    print(row[1])"
   ]
  }
 ],
 "metadata": {
  "kernelspec": {
   "display_name": "Python 3",
   "language": "python",
   "name": "python3"
  },
  "language_info": {
   "codemirror_mode": {
    "name": "ipython",
    "version": 3
   },
   "file_extension": ".py",
   "mimetype": "text/x-python",
   "name": "python",
   "nbconvert_exporter": "python",
   "pygments_lexer": "ipython3",
   "version": "3.7.9"
  }
 },
 "nbformat": 4,
 "nbformat_minor": 4
}
