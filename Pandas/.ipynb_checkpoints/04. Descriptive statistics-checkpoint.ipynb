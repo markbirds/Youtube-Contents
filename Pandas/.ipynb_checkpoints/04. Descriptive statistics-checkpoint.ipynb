{
 "cells": [
  {
   "cell_type": "markdown",
   "metadata": {},
   "source": [
    "## Descriptive statistics\n",
    "\n",
    "```\n",
    "count()   Number of non-null observations\n",
    "sum()\t  Sum of values\n",
    "mean()\t  Mean of Values\n",
    "median()  Median of Values\n",
    "mode()\t  Mode of values\n",
    "std()\t  Standard Deviation of the Values\n",
    "min()\t  Minimum Value\n",
    "max()\t  Maximum Value\n",
    "abs()\t  Absolute Value\n",
    "prod()\t  Product of Values\n",
    "cumsum()  Cumulative Sum\n",
    "cumprod() Cumulative Product\n",
    "```"
   ]
  },
  {
   "cell_type": "code",
   "execution_count": 1,
   "metadata": {},
   "outputs": [],
   "source": [
    "import numpy as np\n",
    "import pandas as pd"
   ]
  },
  {
   "cell_type": "code",
   "execution_count": 2,
   "metadata": {},
   "outputs": [
    {
     "data": {
      "text/html": [
       "<div>\n",
       "<style scoped>\n",
       "    .dataframe tbody tr th:only-of-type {\n",
       "        vertical-align: middle;\n",
       "    }\n",
       "\n",
       "    .dataframe tbody tr th {\n",
       "        vertical-align: top;\n",
       "    }\n",
       "\n",
       "    .dataframe thead th {\n",
       "        text-align: right;\n",
       "    }\n",
       "</style>\n",
       "<table border=\"1\" class=\"dataframe\">\n",
       "  <thead>\n",
       "    <tr style=\"text-align: right;\">\n",
       "      <th></th>\n",
       "      <th>ProductID</th>\n",
       "      <th>Date</th>\n",
       "      <th>Zip</th>\n",
       "      <th>Units</th>\n",
       "      <th>Revenue</th>\n",
       "      <th>City</th>\n",
       "      <th>State</th>\n",
       "      <th>Region</th>\n",
       "      <th>District</th>\n",
       "      <th>Country</th>\n",
       "      <th>Manufacturer</th>\n",
       "      <th>IsCompete</th>\n",
       "      <th>Product</th>\n",
       "      <th>Category</th>\n",
       "      <th>Segment</th>\n",
       "    </tr>\n",
       "  </thead>\n",
       "  <tbody>\n",
       "    <tr>\n",
       "      <th>0</th>\n",
       "      <td>580</td>\n",
       "      <td>1/2/2015</td>\n",
       "      <td>78758</td>\n",
       "      <td>1</td>\n",
       "      <td>834.4875</td>\n",
       "      <td>Austin, TX, USA</td>\n",
       "      <td>TX</td>\n",
       "      <td>Central</td>\n",
       "      <td>District #23</td>\n",
       "      <td>USA</td>\n",
       "      <td>VanArsdel</td>\n",
       "      <td>N</td>\n",
       "      <td>Maximus UC-45</td>\n",
       "      <td>Urban</td>\n",
       "      <td>Convenience</td>\n",
       "    </tr>\n",
       "    <tr>\n",
       "      <th>1</th>\n",
       "      <td>559</td>\n",
       "      <td>1/2/2015</td>\n",
       "      <td>76209</td>\n",
       "      <td>1</td>\n",
       "      <td>629.9475</td>\n",
       "      <td>Denton, TX, USA</td>\n",
       "      <td>TX</td>\n",
       "      <td>Central</td>\n",
       "      <td>District #22</td>\n",
       "      <td>USA</td>\n",
       "      <td>VanArsdel</td>\n",
       "      <td>N</td>\n",
       "      <td>Maximus UC-24</td>\n",
       "      <td>Urban</td>\n",
       "      <td>Convenience</td>\n",
       "    </tr>\n",
       "    <tr>\n",
       "      <th>2</th>\n",
       "      <td>596</td>\n",
       "      <td>1/2/2015</td>\n",
       "      <td>79763</td>\n",
       "      <td>1</td>\n",
       "      <td>766.2375</td>\n",
       "      <td>Odessa, TX, USA</td>\n",
       "      <td>TX</td>\n",
       "      <td>Central</td>\n",
       "      <td>District #22</td>\n",
       "      <td>USA</td>\n",
       "      <td>VanArsdel</td>\n",
       "      <td>N</td>\n",
       "      <td>Maximus UC-61</td>\n",
       "      <td>Urban</td>\n",
       "      <td>Convenience</td>\n",
       "    </tr>\n",
       "    <tr>\n",
       "      <th>3</th>\n",
       "      <td>2064</td>\n",
       "      <td>1/2/2015</td>\n",
       "      <td>11758</td>\n",
       "      <td>1</td>\n",
       "      <td>577.4475</td>\n",
       "      <td>Massapequa, NY, USA</td>\n",
       "      <td>NY</td>\n",
       "      <td>East</td>\n",
       "      <td>District #03</td>\n",
       "      <td>USA</td>\n",
       "      <td>Currus</td>\n",
       "      <td>N</td>\n",
       "      <td>Currus UE-24</td>\n",
       "      <td>Urban</td>\n",
       "      <td>Extreme</td>\n",
       "    </tr>\n",
       "    <tr>\n",
       "      <th>4</th>\n",
       "      <td>2055</td>\n",
       "      <td>1/2/2015</td>\n",
       "      <td>78610</td>\n",
       "      <td>1</td>\n",
       "      <td>656.1975</td>\n",
       "      <td>Buda, TX, USA</td>\n",
       "      <td>TX</td>\n",
       "      <td>Central</td>\n",
       "      <td>District #23</td>\n",
       "      <td>USA</td>\n",
       "      <td>Currus</td>\n",
       "      <td>N</td>\n",
       "      <td>Currus UE-15</td>\n",
       "      <td>Urban</td>\n",
       "      <td>Extreme</td>\n",
       "    </tr>\n",
       "    <tr>\n",
       "      <th>...</th>\n",
       "      <td>...</td>\n",
       "      <td>...</td>\n",
       "      <td>...</td>\n",
       "      <td>...</td>\n",
       "      <td>...</td>\n",
       "      <td>...</td>\n",
       "      <td>...</td>\n",
       "      <td>...</td>\n",
       "      <td>...</td>\n",
       "      <td>...</td>\n",
       "      <td>...</td>\n",
       "      <td>...</td>\n",
       "      <td>...</td>\n",
       "      <td>...</td>\n",
       "      <td>...</td>\n",
       "    </tr>\n",
       "    <tr>\n",
       "      <th>5513</th>\n",
       "      <td>1053</td>\n",
       "      <td>6/30/2015</td>\n",
       "      <td>79831</td>\n",
       "      <td>1</td>\n",
       "      <td>293.9475</td>\n",
       "      <td>Alpine, TX, USA</td>\n",
       "      <td>TX</td>\n",
       "      <td>Central</td>\n",
       "      <td>District #22</td>\n",
       "      <td>USA</td>\n",
       "      <td>Pirum</td>\n",
       "      <td>N</td>\n",
       "      <td>Pirum MA-11</td>\n",
       "      <td>Mix</td>\n",
       "      <td>All Season</td>\n",
       "    </tr>\n",
       "    <tr>\n",
       "      <th>5514</th>\n",
       "      <td>2284</td>\n",
       "      <td>6/30/2015</td>\n",
       "      <td>14086</td>\n",
       "      <td>1</td>\n",
       "      <td>330.6975</td>\n",
       "      <td>Lancaster, NY, USA</td>\n",
       "      <td>NY</td>\n",
       "      <td>East</td>\n",
       "      <td>District #06</td>\n",
       "      <td>USA</td>\n",
       "      <td>Aliqui</td>\n",
       "      <td>N</td>\n",
       "      <td>Aliqui RS-17</td>\n",
       "      <td>Rural</td>\n",
       "      <td>Select</td>\n",
       "    </tr>\n",
       "    <tr>\n",
       "      <th>5515</th>\n",
       "      <td>2284</td>\n",
       "      <td>6/30/2015</td>\n",
       "      <td>14094</td>\n",
       "      <td>1</td>\n",
       "      <td>330.6975</td>\n",
       "      <td>Lockport, NY, USA</td>\n",
       "      <td>NY</td>\n",
       "      <td>East</td>\n",
       "      <td>District #06</td>\n",
       "      <td>USA</td>\n",
       "      <td>Aliqui</td>\n",
       "      <td>N</td>\n",
       "      <td>Aliqui RS-17</td>\n",
       "      <td>Rural</td>\n",
       "      <td>Select</td>\n",
       "    </tr>\n",
       "    <tr>\n",
       "      <th>5516</th>\n",
       "      <td>2277</td>\n",
       "      <td>6/30/2015</td>\n",
       "      <td>14304</td>\n",
       "      <td>1</td>\n",
       "      <td>293.9475</td>\n",
       "      <td>Niagara Falls, NY, USA</td>\n",
       "      <td>NY</td>\n",
       "      <td>East</td>\n",
       "      <td>District #06</td>\n",
       "      <td>USA</td>\n",
       "      <td>Aliqui</td>\n",
       "      <td>N</td>\n",
       "      <td>Aliqui RS-10</td>\n",
       "      <td>Rural</td>\n",
       "      <td>Select</td>\n",
       "    </tr>\n",
       "    <tr>\n",
       "      <th>5517</th>\n",
       "      <td>993</td>\n",
       "      <td>6/30/2015</td>\n",
       "      <td>76051</td>\n",
       "      <td>2</td>\n",
       "      <td>766.3950</td>\n",
       "      <td>Grapevine, TX, USA</td>\n",
       "      <td>TX</td>\n",
       "      <td>Central</td>\n",
       "      <td>District #22</td>\n",
       "      <td>USA</td>\n",
       "      <td>Natura</td>\n",
       "      <td>N</td>\n",
       "      <td>Natura UC-56</td>\n",
       "      <td>Urban</td>\n",
       "      <td>Convenience</td>\n",
       "    </tr>\n",
       "  </tbody>\n",
       "</table>\n",
       "<p>5518 rows × 15 columns</p>\n",
       "</div>"
      ],
      "text/plain": [
       "      ProductID       Date    Zip  Units   Revenue                    City  \\\n",
       "0           580   1/2/2015  78758      1  834.4875         Austin, TX, USA   \n",
       "1           559   1/2/2015  76209      1  629.9475         Denton, TX, USA   \n",
       "2           596   1/2/2015  79763      1  766.2375         Odessa, TX, USA   \n",
       "3          2064   1/2/2015  11758      1  577.4475     Massapequa, NY, USA   \n",
       "4          2055   1/2/2015  78610      1  656.1975           Buda, TX, USA   \n",
       "...         ...        ...    ...    ...       ...                     ...   \n",
       "5513       1053  6/30/2015  79831      1  293.9475         Alpine, TX, USA   \n",
       "5514       2284  6/30/2015  14086      1  330.6975      Lancaster, NY, USA   \n",
       "5515       2284  6/30/2015  14094      1  330.6975       Lockport, NY, USA   \n",
       "5516       2277  6/30/2015  14304      1  293.9475  Niagara Falls, NY, USA   \n",
       "5517        993  6/30/2015  76051      2  766.3950      Grapevine, TX, USA   \n",
       "\n",
       "     State   Region      District Country Manufacturer IsCompete  \\\n",
       "0       TX  Central  District #23     USA    VanArsdel         N   \n",
       "1       TX  Central  District #22     USA    VanArsdel         N   \n",
       "2       TX  Central  District #22     USA    VanArsdel         N   \n",
       "3       NY     East  District #03     USA       Currus         N   \n",
       "4       TX  Central  District #23     USA       Currus         N   \n",
       "...    ...      ...           ...     ...          ...       ...   \n",
       "5513    TX  Central  District #22     USA        Pirum         N   \n",
       "5514    NY     East  District #06     USA       Aliqui         N   \n",
       "5515    NY     East  District #06     USA       Aliqui         N   \n",
       "5516    NY     East  District #06     USA       Aliqui         N   \n",
       "5517    TX  Central  District #22     USA       Natura         N   \n",
       "\n",
       "            Product Category      Segment  \n",
       "0     Maximus UC-45    Urban  Convenience  \n",
       "1     Maximus UC-24    Urban  Convenience  \n",
       "2     Maximus UC-61    Urban  Convenience  \n",
       "3      Currus UE-24    Urban      Extreme  \n",
       "4      Currus UE-15    Urban      Extreme  \n",
       "...             ...      ...          ...  \n",
       "5513    Pirum MA-11      Mix   All Season  \n",
       "5514   Aliqui RS-17    Rural       Select  \n",
       "5515   Aliqui RS-17    Rural       Select  \n",
       "5516   Aliqui RS-10    Rural       Select  \n",
       "5517   Natura UC-56    Urban  Convenience  \n",
       "\n",
       "[5518 rows x 15 columns]"
      ]
     },
     "execution_count": 2,
     "metadata": {},
     "output_type": "execute_result"
    }
   ],
   "source": [
    "df = pd.read_csv('data/sampleData.csv')\n",
    "df"
   ]
  },
  {
   "cell_type": "code",
   "execution_count": 3,
   "metadata": {},
   "outputs": [
    {
     "name": "stdout",
     "output_type": "stream",
     "text": [
      "Total Revenue of VanArsdel: 1708741.49\n"
     ]
    }
   ],
   "source": [
    "print('Total Revenue of VanArsdel:',round(df[df.Manufacturer=='VanArsdel'].Revenue.sum(),2))"
   ]
  },
  {
   "cell_type": "code",
   "execution_count": 4,
   "metadata": {},
   "outputs": [
    {
     "name": "stdout",
     "output_type": "stream",
     "text": [
      "Total count of revenue greater than 1000: 64\n"
     ]
    }
   ],
   "source": [
    "print('Total count of revenue greater than 1000:',df.Revenue[df['Revenue']>1000].count()-1)"
   ]
  },
  {
   "cell_type": "code",
   "execution_count": 5,
   "metadata": {
    "scrolled": true
   },
   "outputs": [
    {
     "name": "stdout",
     "output_type": "stream",
     "text": [
      "Average revenue in Rural: 197.12\n"
     ]
    }
   ],
   "source": [
    "print('Average revenue in Rural:',round(df[df.Category=='Rural'].Revenue.mean(),2))"
   ]
  },
  {
   "cell_type": "code",
   "execution_count": 6,
   "metadata": {},
   "outputs": [
    {
     "name": "stdout",
     "output_type": "stream",
     "text": [
      "Maximum Revenue: 7336.46\n"
     ]
    }
   ],
   "source": [
    "print('Maximum Revenue:',round(df.Revenue.max(),2))"
   ]
  },
  {
   "cell_type": "code",
   "execution_count": 7,
   "metadata": {},
   "outputs": [
    {
     "name": "stdout",
     "output_type": "stream",
     "text": [
      "Minimum Revenue: 56.65\n"
     ]
    }
   ],
   "source": [
    "print('Minimum Revenue:',round(df.Revenue.min(),2))"
   ]
  },
  {
   "cell_type": "code",
   "execution_count": 8,
   "metadata": {
    "scrolled": true
   },
   "outputs": [
    {
     "name": "stdout",
     "output_type": "stream",
     "text": [
      "count    5518.000000\n",
      "mean      548.206275\n",
      "std       313.755539\n",
      "min        56.647500\n",
      "25%       288.697500\n",
      "50%       524.947500\n",
      "75%       834.487500\n",
      "max      7336.455000\n",
      "Name: Revenue, dtype: float64\n"
     ]
    }
   ],
   "source": [
    "print(df.describe().Revenue)"
   ]
  }
 ],
 "metadata": {
  "kernelspec": {
   "display_name": "Python 3",
   "language": "python",
   "name": "python3"
  },
  "language_info": {
   "codemirror_mode": {
    "name": "ipython",
    "version": 3
   },
   "file_extension": ".py",
   "mimetype": "text/x-python",
   "name": "python",
   "nbconvert_exporter": "python",
   "pygments_lexer": "ipython3",
   "version": "3.7.9"
  }
 },
 "nbformat": 4,
 "nbformat_minor": 4
}
