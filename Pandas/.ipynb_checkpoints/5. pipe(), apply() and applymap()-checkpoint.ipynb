{
 "cells": [
  {
   "cell_type": "markdown",
   "metadata": {},
   "source": [
    "## pipe(), apply() and applymap()"
   ]
  },
  {
   "cell_type": "code",
   "execution_count": 1,
   "metadata": {},
   "outputs": [],
   "source": [
    "import numpy as np\n",
    "import pandas as pd"
   ]
  },
  {
   "cell_type": "code",
   "execution_count": null,
   "metadata": {},
   "outputs": [],
   "source": [
    "df = pd.DataFrame(np.random.randint(1,101,(7,3)),columns=['Random1','Random2','Random3'])\n",
    "\n",
    "print('Sample DataFrame:\\n',df)\n",
    "\n",
    "print('\\npipe() takes the whole dataframe as argument: df.pipe(lambda x: print(x))\\n')\n",
    "df.pipe(lambda x: print(x))\n",
    "\n",
    "print('\\nprint(df.pipe(lambda x: x*2)\\n')\n",
    "print(df.pipe(lambda x: x*2))"
   ]
  },
  {
   "cell_type": "code",
   "execution_count": null,
   "metadata": {},
   "outputs": [],
   "source": [
    "print('Sample DataFrame:\\n',df)\n",
    "\n",
    "print('\\napply() takes each column(default axis=0) as argument: df.apply(lambda x: print(x))\\n')\n",
    "df.apply(lambda x: print(x))\n",
    "\n",
    "print('\\nprint(df.apply(lambda x: x*2 if x.name == \\'Random2\\' else x))\\n')\n",
    "print(df.apply(lambda x: x*2 if x.name == 'Random2' else x))\n",
    "\n",
    "print('\\nprint(df.apply(lambda x: x*3 if x.name == 0 else x,axis=1))\\n')\n",
    "print(df.apply(lambda x: x*3 if x.name == 0 else x,axis=1))"
   ]
  }
 ],
 "metadata": {
  "kernelspec": {
   "display_name": "Python 3",
   "language": "python",
   "name": "python3"
  },
  "language_info": {
   "codemirror_mode": {
    "name": "ipython",
    "version": 3
   },
   "file_extension": ".py",
   "mimetype": "text/x-python",
   "name": "python",
   "nbconvert_exporter": "python",
   "pygments_lexer": "ipython3",
   "version": "3.7.9"
  }
 },
 "nbformat": 4,
 "nbformat_minor": 4
}
