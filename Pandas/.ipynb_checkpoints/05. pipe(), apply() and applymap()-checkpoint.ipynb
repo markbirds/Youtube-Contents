{
 "cells": [
  {
   "cell_type": "markdown",
   "metadata": {},
   "source": [
    "## pipe(), apply() and applymap()"
   ]
  },
  {
   "cell_type": "code",
   "execution_count": 1,
   "metadata": {},
   "outputs": [],
   "source": [
    "import numpy as np\n",
    "import pandas as pd"
   ]
  },
  {
   "cell_type": "code",
   "execution_count": 2,
   "metadata": {},
   "outputs": [
    {
     "name": "stdout",
     "output_type": "stream",
     "text": [
      "Sample DataFrame:\n",
      "    Random1  Random2  Random3\n",
      "0       66       87       97\n",
      "1       13       63       99\n",
      "2       97       56       21\n",
      "3       36       83       21\n",
      "4       24       89       75\n",
      "5        3       10       58\n",
      "6       34       20       74\n"
     ]
    }
   ],
   "source": [
    "df = pd.DataFrame(np.random.randint(1,101,(7,3)),columns=['Random1','Random2','Random3'])\n",
    "\n",
    "print('Sample DataFrame:\\n',df)"
   ]
  },
  {
   "cell_type": "code",
   "execution_count": 3,
   "metadata": {},
   "outputs": [
    {
     "name": "stdout",
     "output_type": "stream",
     "text": [
      "pipe() takes the whole dataframe as argument: df.pipe(lambda x: print(x))\n",
      "\n",
      "   Random1  Random2  Random3\n",
      "0       66       87       97\n",
      "1       13       63       99\n",
      "2       97       56       21\n",
      "3       36       83       21\n",
      "4       24       89       75\n",
      "5        3       10       58\n",
      "6       34       20       74\n"
     ]
    }
   ],
   "source": [
    "print('pipe() takes the whole dataframe as argument: df.pipe(lambda x: print(x))\\n')\n",
    "df.pipe(lambda x: print(x))"
   ]
  },
  {
   "cell_type": "code",
   "execution_count": 4,
   "metadata": {},
   "outputs": [
    {
     "name": "stdout",
     "output_type": "stream",
     "text": [
      "\n",
      "print(df.pipe(lambda x: x*2)\n",
      "\n",
      "   Random1  Random2  Random3\n",
      "0      132      174      194\n",
      "1       26      126      198\n",
      "2      194      112       42\n",
      "3       72      166       42\n",
      "4       48      178      150\n",
      "5        6       20      116\n",
      "6       68       40      148\n"
     ]
    }
   ],
   "source": [
    "print('\\nprint(df.pipe(lambda x: x*2)\\n')\n",
    "print(df.pipe(lambda x: x*2))"
   ]
  },
  {
   "cell_type": "code",
   "execution_count": 5,
   "metadata": {},
   "outputs": [
    {
     "name": "stdout",
     "output_type": "stream",
     "text": [
      "Sample DataFrame:\n",
      "    Random1  Random2  Random3\n",
      "0       66       87       97\n",
      "1       13       63       99\n",
      "2       97       56       21\n",
      "3       36       83       21\n",
      "4       24       89       75\n",
      "5        3       10       58\n",
      "6       34       20       74\n"
     ]
    }
   ],
   "source": [
    "print('Sample DataFrame:\\n',df)"
   ]
  },
  {
   "cell_type": "code",
   "execution_count": 6,
   "metadata": {
    "scrolled": false
   },
   "outputs": [
    {
     "name": "stdout",
     "output_type": "stream",
     "text": [
      "apply() takes each column(default axis=0) as argument: df.apply(lambda x: print(x))\n",
      "\n",
      "0    66\n",
      "1    13\n",
      "2    97\n",
      "3    36\n",
      "4    24\n",
      "5     3\n",
      "6    34\n",
      "Name: Random1, dtype: int32\n",
      "0    87\n",
      "1    63\n",
      "2    56\n",
      "3    83\n",
      "4    89\n",
      "5    10\n",
      "6    20\n",
      "Name: Random2, dtype: int32\n",
      "0    97\n",
      "1    99\n",
      "2    21\n",
      "3    21\n",
      "4    75\n",
      "5    58\n",
      "6    74\n",
      "Name: Random3, dtype: int32\n"
     ]
    },
    {
     "data": {
      "text/plain": [
       "Random1    None\n",
       "Random2    None\n",
       "Random3    None\n",
       "dtype: object"
      ]
     },
     "execution_count": 6,
     "metadata": {},
     "output_type": "execute_result"
    }
   ],
   "source": [
    "print('apply() takes each column(default axis=0) as argument: df.apply(lambda x: print(x))\\n')\n",
    "df.apply(lambda x: print(x))"
   ]
  },
  {
   "cell_type": "code",
   "execution_count": 7,
   "metadata": {},
   "outputs": [
    {
     "name": "stdout",
     "output_type": "stream",
     "text": [
      "print(df.apply(lambda x: x*2 if x.name == 'Random2' else x))\n",
      "\n",
      "   Random1  Random2  Random3\n",
      "0       66      174       97\n",
      "1       13      126       99\n",
      "2       97      112       21\n",
      "3       36      166       21\n",
      "4       24      178       75\n",
      "5        3       20       58\n",
      "6       34       40       74\n"
     ]
    }
   ],
   "source": [
    "print('print(df.apply(lambda x: x*2 if x.name == \\'Random2\\' else x))\\n')\n",
    "print(df.apply(lambda x: x*2 if x.name == 'Random2' else x))"
   ]
  },
  {
   "cell_type": "code",
   "execution_count": 8,
   "metadata": {},
   "outputs": [
    {
     "name": "stdout",
     "output_type": "stream",
     "text": [
      "\n",
      "print(df.apply(lambda x: x*3 if x.name == 0 else x,axis=1))\n",
      "\n",
      "   Random1  Random2  Random3\n",
      "0      198      261      291\n",
      "1       13       63       99\n",
      "2       97       56       21\n",
      "3       36       83       21\n",
      "4       24       89       75\n",
      "5        3       10       58\n",
      "6       34       20       74\n"
     ]
    }
   ],
   "source": [
    "print('\\nprint(df.apply(lambda x: x*3 if x.name == 0 else x,axis=1))\\n')\n",
    "print(df.apply(lambda x: x*3 if x.name == 0 else x,axis=1))"
   ]
  },
  {
   "cell_type": "code",
   "execution_count": 9,
   "metadata": {},
   "outputs": [
    {
     "name": "stdout",
     "output_type": "stream",
     "text": [
      "Sample DataFrame:\n",
      "    Random1  Random2  Random3\n",
      "0       66       87       97\n",
      "1       13       63       99\n",
      "2       97       56       21\n",
      "3       36       83       21\n",
      "4       24       89       75\n",
      "5        3       10       58\n",
      "6       34       20       74\n"
     ]
    }
   ],
   "source": [
    "print('Sample DataFrame:\\n',df)"
   ]
  },
  {
   "cell_type": "code",
   "execution_count": 10,
   "metadata": {},
   "outputs": [
    {
     "name": "stdout",
     "output_type": "stream",
     "text": [
      "applymap() takes each values as argument: df.applymap(lambda x: 'pandas' if x>50 else x)\n",
      "\n",
      "  Random1 Random2 Random3\n",
      "0  pandas  pandas  pandas\n",
      "1      13  pandas  pandas\n",
      "2  pandas  pandas      21\n",
      "3      36  pandas      21\n",
      "4      24  pandas  pandas\n",
      "5       3      10  pandas\n",
      "6      34      20  pandas\n"
     ]
    }
   ],
   "source": [
    "print('applymap() takes each values as argument: df.applymap(lambda x: \\'pandas\\' if x>50 else x)\\n')\n",
    "print(df.applymap(lambda x: 'pandas' if x>50 else x))"
   ]
  }
 ],
 "metadata": {
  "kernelspec": {
   "display_name": "Python 3",
   "language": "python",
   "name": "python3"
  },
  "language_info": {
   "codemirror_mode": {
    "name": "ipython",
    "version": 3
   },
   "file_extension": ".py",
   "mimetype": "text/x-python",
   "name": "python",
   "nbconvert_exporter": "python",
   "pygments_lexer": "ipython3",
   "version": "3.7.9"
  }
 },
 "nbformat": 4,
 "nbformat_minor": 4
}
