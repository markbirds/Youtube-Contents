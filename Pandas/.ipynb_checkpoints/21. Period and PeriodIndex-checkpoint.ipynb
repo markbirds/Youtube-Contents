{
 "cells": [
  {
   "cell_type": "markdown",
   "metadata": {},
   "source": [
    "## Period and PeriodIndex"
   ]
  },
  {
   "cell_type": "code",
   "execution_count": 1,
   "metadata": {},
   "outputs": [],
   "source": [
    "import numpy as np\n",
    "import pandas as pd"
   ]
  },
  {
   "cell_type": "code",
   "execution_count": 2,
   "metadata": {},
   "outputs": [
    {
     "data": {
      "text/plain": [
       "Period('2016', 'A-DEC')"
      ]
     },
     "execution_count": 2,
     "metadata": {},
     "output_type": "execute_result"
    }
   ],
   "source": [
    "y = pd.Period('2016')\n",
    "m = pd.Period('2016-03')\n",
    "d = pd.Period('2016-03-29')\n",
    "\n",
    "y"
   ]
  },
  {
   "cell_type": "code",
   "execution_count": 3,
   "metadata": {},
   "outputs": [
    {
     "data": {
      "text/plain": [
       "Period('2016-03', 'M')"
      ]
     },
     "execution_count": 3,
     "metadata": {},
     "output_type": "execute_result"
    }
   ],
   "source": [
    "m"
   ]
  },
  {
   "cell_type": "code",
   "execution_count": 4,
   "metadata": {},
   "outputs": [
    {
     "data": {
      "text/plain": [
       "Period('2016-03-29', 'D')"
      ]
     },
     "execution_count": 4,
     "metadata": {},
     "output_type": "execute_result"
    }
   ],
   "source": [
    "d"
   ]
  },
  {
   "cell_type": "code",
   "execution_count": 5,
   "metadata": {},
   "outputs": [
    {
     "name": "stdout",
     "output_type": "stream",
     "text": [
      "2017\n",
      "2016-04\n",
      "2016-03-30\n"
     ]
    }
   ],
   "source": [
    "print(y+1)\n",
    "print(m+1)\n",
    "print(d+1)"
   ]
  },
  {
   "cell_type": "code",
   "execution_count": 6,
   "metadata": {},
   "outputs": [
    {
     "name": "stdout",
     "output_type": "stream",
     "text": [
      "Year start time: 2016-01-01 00:00:00\n",
      "Year end time: 2016-12-31 23:59:59.999999999\n"
     ]
    }
   ],
   "source": [
    "print('Year start time:',y.start_time)\n",
    "print('Year end time:',y.end_time)"
   ]
  },
  {
   "cell_type": "code",
   "execution_count": 7,
   "metadata": {},
   "outputs": [
    {
     "name": "stdout",
     "output_type": "stream",
     "text": [
      "\n",
      "Month start time: 2016-03-01 00:00:00\n",
      "Month end time: 2016-03-31 23:59:59.999999999\n"
     ]
    }
   ],
   "source": [
    "print('\\nMonth start time:',m.start_time)\n",
    "print('Month end time:',m.end_time)"
   ]
  },
  {
   "cell_type": "code",
   "execution_count": 8,
   "metadata": {},
   "outputs": [
    {
     "name": "stdout",
     "output_type": "stream",
     "text": [
      "\n",
      "Day start time: 2016-03-29 00:00:00\n",
      "Day end time: 2016-03-29 23:59:59.999999999\n"
     ]
    }
   ],
   "source": [
    "print('\\nDay start time:',d.start_time)\n",
    "print('Day end time:',d.end_time)"
   ]
  },
  {
   "cell_type": "code",
   "execution_count": 9,
   "metadata": {},
   "outputs": [
    {
     "name": "stdout",
     "output_type": "stream",
     "text": [
      "Quarter 1 start time: 2017-01-01 00:00:00\n",
      "Quarter 1 end time: 2017-03-31 23:59:59.999999999\n"
     ]
    }
   ],
   "source": [
    "q1= pd.Period('2017Q1')\n",
    "print('Quarter 1 start time:',q1.start_time)\n",
    "print('Quarter 1 end time:',q1.end_time)"
   ]
  },
  {
   "cell_type": "code",
   "execution_count": 10,
   "metadata": {},
   "outputs": [
    {
     "name": "stdout",
     "output_type": "stream",
     "text": [
      "\n",
      "Quarter 3 start time: 2017-07-01 00:00:00\n",
      "Quarter 3 end time: 2017-09-30 23:59:59.999999999\n"
     ]
    }
   ],
   "source": [
    "q3= pd.Period('2017Q3')\n",
    "print('\\nQuarter 3 start time:',q3.start_time)\n",
    "print('Quarter 3 end time:',q3.end_time)"
   ]
  },
  {
   "cell_type": "code",
   "execution_count": 11,
   "metadata": {},
   "outputs": [
    {
     "name": "stdout",
     "output_type": "stream",
     "text": [
      "Difference between date_range and period_range\n"
     ]
    },
    {
     "data": {
      "text/plain": [
       "DatetimeIndex(['2011-03-31', '2011-06-30', '2011-09-30', '2011-12-31',\n",
       "               '2012-03-31', '2012-06-30', '2012-09-30', '2012-12-31',\n",
       "               '2013-03-31', '2013-06-30', '2013-09-30', '2013-12-31',\n",
       "               '2014-03-31', '2014-06-30', '2014-09-30', '2014-12-31',\n",
       "               '2015-03-31', '2015-06-30', '2015-09-30', '2015-12-31',\n",
       "               '2016-03-31', '2016-06-30', '2016-09-30', '2016-12-31'],\n",
       "              dtype='datetime64[ns]', freq='Q-DEC')"
      ]
     },
     "execution_count": 11,
     "metadata": {},
     "output_type": "execute_result"
    }
   ],
   "source": [
    "print('Difference between date_range and period_range')\n",
    "\n",
    "date = pd.date_range('2011', '2017', freq='q')\n",
    "date"
   ]
  },
  {
   "cell_type": "code",
   "execution_count": 12,
   "metadata": {},
   "outputs": [
    {
     "data": {
      "text/plain": [
       "PeriodIndex(['2011Q1', '2011Q2', '2011Q3', '2011Q4', '2012Q1', '2012Q2',\n",
       "             '2012Q3', '2012Q4', '2013Q1', '2013Q2'],\n",
       "            dtype='period[Q-DEC]', freq='Q-DEC')"
      ]
     },
     "execution_count": 12,
     "metadata": {},
     "output_type": "execute_result"
    }
   ],
   "source": [
    "date = pd.period_range('2011', periods=10, freq='q')\n",
    "date"
   ]
  },
  {
   "cell_type": "code",
   "execution_count": 13,
   "metadata": {},
   "outputs": [
    {
     "name": "stdout",
     "output_type": "stream",
     "text": [
      "        Random 1  Random 2\n",
      "2011Q1        41        21\n",
      "2011Q2        69        29\n",
      "2011Q3        18        89\n",
      "2011Q4       100        24\n",
      "2012Q1        81        36\n",
      "2012Q2        89        67\n",
      "2012Q3        96        45\n",
      "2012Q4        50        12\n",
      "2013Q1        87        58\n",
      "2013Q2        59        44\n"
     ]
    }
   ],
   "source": [
    "df = pd.DataFrame(np.random.randint(1,101,(10,2)),index=date,columns=['Random 1','Random 2'])\n",
    "print(df)"
   ]
  },
  {
   "cell_type": "code",
   "execution_count": 14,
   "metadata": {},
   "outputs": [
    {
     "name": "stdout",
     "output_type": "stream",
     "text": [
      "        Random 1  Random 2\n",
      "2011Q3        18        89\n",
      "2011Q4       100        24\n",
      "2012Q1        81        36\n",
      "2012Q2        89        67\n",
      "2012Q3        96        45\n",
      "2012Q4        50        12\n"
     ]
    }
   ],
   "source": [
    "print(df['2011Q3':'2012Q4'])"
   ]
  }
 ],
 "metadata": {
  "kernelspec": {
   "display_name": "Python 3",
   "language": "python",
   "name": "python3"
  },
  "language_info": {
   "codemirror_mode": {
    "name": "ipython",
    "version": 3
   },
   "file_extension": ".py",
   "mimetype": "text/x-python",
   "name": "python",
   "nbconvert_exporter": "python",
   "pygments_lexer": "ipython3",
   "version": "3.7.9"
  }
 },
 "nbformat": 4,
 "nbformat_minor": 4
}
