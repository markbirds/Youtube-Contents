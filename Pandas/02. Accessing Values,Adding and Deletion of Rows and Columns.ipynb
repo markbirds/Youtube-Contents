{
 "cells": [
  {
   "cell_type": "markdown",
   "metadata": {},
   "source": [
    "## Accessing Values,Adding and Deletion of Rows and Columns"
   ]
  },
  {
   "cell_type": "code",
   "execution_count": 1,
   "metadata": {},
   "outputs": [],
   "source": [
    "import pandas as pd\n",
    "import numpy as np"
   ]
  },
  {
   "cell_type": "code",
   "execution_count": 2,
   "metadata": {},
   "outputs": [
    {
     "name": "stdout",
     "output_type": "stream",
     "text": [
      "Adding and Deleting Column\n",
      "\n",
      "Sample DataFrame:\n",
      "     Name  Age\n",
      "0    Tom   28\n",
      "1   Jack   34\n",
      "2  Steve   29\n",
      "3  Ricky   42\n"
     ]
    }
   ],
   "source": [
    "data = {'Name':['Tom', 'Jack', 'Steve', 'Ricky'],'Age':[28,34,29,42]}\n",
    "df = pd.DataFrame(data)\n",
    "\n",
    "print('Adding and Deleting Column')\n",
    "print('\\nSample DataFrame:\\n',df)"
   ]
  },
  {
   "cell_type": "code",
   "execution_count": 3,
   "metadata": {},
   "outputs": [
    {
     "name": "stdout",
     "output_type": "stream",
     "text": [
      "\n",
      "Added new column \"Random\":\n",
      "     Name  Age  Random\n",
      "0    Tom   28       5\n",
      "1   Jack   34       3\n",
      "2  Steve   29       5\n",
      "3  Ricky   42       9\n"
     ]
    }
   ],
   "source": [
    "df['Random'] = pd.Series(np.random.randint(1,11,4))\n",
    "print('\\nAdded new column \"Random\":\\n',df)"
   ]
  },
  {
   "cell_type": "code",
   "execution_count": 4,
   "metadata": {},
   "outputs": [
    {
     "name": "stdout",
     "output_type": "stream",
     "text": [
      "\n",
      "Deleting Random Column using pop function:\n",
      "     Name  Age\n",
      "0    Tom   28\n",
      "1   Jack   34\n",
      "2  Steve   29\n",
      "3  Ricky   42\n"
     ]
    }
   ],
   "source": [
    "df.pop('Random')\n",
    "print('\\nDeleting Random Column using pop function:\\n',df)"
   ]
  },
  {
   "cell_type": "code",
   "execution_count": 5,
   "metadata": {},
   "outputs": [
    {
     "name": "stdout",
     "output_type": "stream",
     "text": [
      "Adding and Deleting Rows:\n",
      "\n",
      "Sample Data:\n",
      "     Name  Age  Random\n",
      "0    Tom   28       7\n",
      "1   Jack   34       8\n",
      "2  Steve   29       3\n",
      "3  Ricky   42       4\n"
     ]
    }
   ],
   "source": [
    "df['Random'] = pd.Series(np.random.randint(1,11,4))\n",
    "\n",
    "print('Adding and Deleting Rows:')\n",
    "print('\\nSample Data:\\n',df)"
   ]
  },
  {
   "cell_type": "code",
   "execution_count": 6,
   "metadata": {},
   "outputs": [
    {
     "data": {
      "text/html": [
       "<div>\n",
       "<style scoped>\n",
       "    .dataframe tbody tr th:only-of-type {\n",
       "        vertical-align: middle;\n",
       "    }\n",
       "\n",
       "    .dataframe tbody tr th {\n",
       "        vertical-align: top;\n",
       "    }\n",
       "\n",
       "    .dataframe thead th {\n",
       "        text-align: right;\n",
       "    }\n",
       "</style>\n",
       "<table border=\"1\" class=\"dataframe\">\n",
       "  <thead>\n",
       "    <tr style=\"text-align: right;\">\n",
       "      <th></th>\n",
       "      <th>Name</th>\n",
       "      <th>Age</th>\n",
       "      <th>Random</th>\n",
       "    </tr>\n",
       "  </thead>\n",
       "  <tbody>\n",
       "    <tr>\n",
       "      <th>0</th>\n",
       "      <td>Mark</td>\n",
       "      <td>20</td>\n",
       "      <td>1</td>\n",
       "    </tr>\n",
       "  </tbody>\n",
       "</table>\n",
       "</div>"
      ],
      "text/plain": [
       "   Name  Age  Random\n",
       "0  Mark   20       1"
      ]
     },
     "execution_count": 6,
     "metadata": {},
     "output_type": "execute_result"
    }
   ],
   "source": [
    "row = pd.DataFrame({'Name':'Mark','Age':20,'Random':np.random.randint(1,11,1)})\n",
    "row"
   ]
  },
  {
   "cell_type": "code",
   "execution_count": 7,
   "metadata": {
    "scrolled": true
   },
   "outputs": [
    {
     "name": "stdout",
     "output_type": "stream",
     "text": [
      "Adding rows using append:\n",
      "     Name  Age  Random\n",
      "0    Tom   28       7\n",
      "1   Jack   34       8\n",
      "2  Steve   29       3\n",
      "3  Ricky   42       4\n",
      "4   Mark   20       1\n"
     ]
    }
   ],
   "source": [
    "df = df.append(row,ignore_index=True)\n",
    "print('Adding rows using append:\\n',df)"
   ]
  },
  {
   "cell_type": "code",
   "execution_count": 8,
   "metadata": {},
   "outputs": [
    {
     "data": {
      "text/html": [
       "<div>\n",
       "<style scoped>\n",
       "    .dataframe tbody tr th:only-of-type {\n",
       "        vertical-align: middle;\n",
       "    }\n",
       "\n",
       "    .dataframe tbody tr th {\n",
       "        vertical-align: top;\n",
       "    }\n",
       "\n",
       "    .dataframe thead th {\n",
       "        text-align: right;\n",
       "    }\n",
       "</style>\n",
       "<table border=\"1\" class=\"dataframe\">\n",
       "  <thead>\n",
       "    <tr style=\"text-align: right;\">\n",
       "      <th></th>\n",
       "      <th>Name</th>\n",
       "      <th>Age</th>\n",
       "      <th>Random</th>\n",
       "    </tr>\n",
       "  </thead>\n",
       "  <tbody>\n",
       "    <tr>\n",
       "      <th>0</th>\n",
       "      <td>Pat</td>\n",
       "      <td>19</td>\n",
       "      <td>6</td>\n",
       "    </tr>\n",
       "  </tbody>\n",
       "</table>\n",
       "</div>"
      ],
      "text/plain": [
       "  Name  Age  Random\n",
       "0  Pat   19       6"
      ]
     },
     "execution_count": 8,
     "metadata": {},
     "output_type": "execute_result"
    }
   ],
   "source": [
    "row = pd.DataFrame({'Name':'Pat','Age':19,'Random':np.random.randint(1,11,1)})\n",
    "row"
   ]
  },
  {
   "cell_type": "code",
   "execution_count": 9,
   "metadata": {},
   "outputs": [
    {
     "name": "stdout",
     "output_type": "stream",
     "text": [
      "Adding rows using concat:\n",
      "     Name  Age  Random\n",
      "0    Tom   28       7\n",
      "1   Jack   34       8\n",
      "2  Steve   29       3\n",
      "3  Ricky   42       4\n",
      "4   Mark   20       1\n",
      "5    Pat   19       6\n"
     ]
    }
   ],
   "source": [
    "df = pd.concat([df,row],ignore_index=True)\n",
    "print('Adding rows using concat:\\n',df)"
   ]
  },
  {
   "cell_type": "code",
   "execution_count": 10,
   "metadata": {},
   "outputs": [
    {
     "name": "stdout",
     "output_type": "stream",
     "text": [
      "Deleting 1st and 2nd Row:\n",
      "     Name  Age  Random\n",
      "2  Steve   29       3\n",
      "3  Ricky   42       4\n",
      "4   Mark   20       1\n",
      "5    Pat   19       6\n"
     ]
    }
   ],
   "source": [
    "df2 = df.drop([0,1])\n",
    "print('Deleting 1st and 2nd Row:\\n',df2)"
   ]
  },
  {
   "cell_type": "code",
   "execution_count": 11,
   "metadata": {},
   "outputs": [
    {
     "name": "stdout",
     "output_type": "stream",
     "text": [
      "Column Selection - Period and Square Bracket can be used to access a column\n",
      "\n",
      "Sample DataFrame\n",
      "     Name  Age  Random\n",
      "0    Tom   28       7\n",
      "1   Jack   34       8\n",
      "2  Steve   29       3\n",
      "3  Ricky   42       4\n",
      "4   Mark   20       1\n",
      "5    Pat   19       6\n"
     ]
    }
   ],
   "source": [
    "print('Column Selection - Period and Square Bracket can be used to access a column')\n",
    "print('\\nSample DataFrame\\n',df)"
   ]
  },
  {
   "cell_type": "code",
   "execution_count": 12,
   "metadata": {},
   "outputs": [
    {
     "name": "stdout",
     "output_type": "stream",
     "text": [
      "Name Column:\n",
      " 0      Tom\n",
      "1     Jack\n",
      "2    Steve\n",
      "3    Ricky\n",
      "4     Mark\n",
      "5      Pat\n",
      "Name: Name, dtype: object\n"
     ]
    }
   ],
   "source": [
    "print('Name Column:\\n',df.Name)"
   ]
  },
  {
   "cell_type": "code",
   "execution_count": 13,
   "metadata": {},
   "outputs": [
    {
     "name": "stdout",
     "output_type": "stream",
     "text": [
      "Name and Random Column:\n",
      "     Name  Random\n",
      "0    Tom       7\n",
      "1   Jack       8\n",
      "2  Steve       3\n",
      "3  Ricky       4\n",
      "4   Mark       1\n",
      "5    Pat       6\n"
     ]
    }
   ],
   "source": [
    "print('Name and Random Column:\\n',df[['Name','Random']])"
   ]
  },
  {
   "cell_type": "code",
   "execution_count": 14,
   "metadata": {},
   "outputs": [
    {
     "name": "stdout",
     "output_type": "stream",
     "text": [
      "Column Selection using iloc and colon:\n",
      "    Age  Random\n",
      "0   28       7\n",
      "1   34       8\n",
      "2   29       3\n",
      "3   42       4\n",
      "4   20       1\n",
      "5   19       6\n"
     ]
    }
   ],
   "source": [
    "print('Column Selection using iloc and colon:\\n',df.iloc[:,1:3])"
   ]
  },
  {
   "cell_type": "code",
   "execution_count": 15,
   "metadata": {},
   "outputs": [
    {
     "name": "stdout",
     "output_type": "stream",
     "text": [
      "Row Selection\n",
      "\n",
      "Sample DataFrame\n",
      "     Name  Age  Random\n",
      "0    Tom   28       7\n",
      "1   Jack   34       8\n",
      "2  Steve   29       3\n",
      "3  Ricky   42       4\n",
      "4   Mark   20       1\n",
      "5    Pat   19       6\n"
     ]
    }
   ],
   "source": [
    "print('Row Selection')\n",
    "print('\\nSample DataFrame\\n',df)"
   ]
  },
  {
   "cell_type": "code",
   "execution_count": 16,
   "metadata": {},
   "outputs": [
    {
     "name": "stdout",
     "output_type": "stream",
     "text": [
      "\n",
      "Selecting last row:\n",
      " Name      Pat\n",
      "Age        19\n",
      "Random      6\n",
      "Name: 5, dtype: object\n"
     ]
    }
   ],
   "source": [
    "print('\\nSelecting last row:\\n',df.iloc[-1])"
   ]
  },
  {
   "cell_type": "code",
   "execution_count": 17,
   "metadata": {},
   "outputs": [
    {
     "name": "stdout",
     "output_type": "stream",
     "text": [
      "Selecting Name and Age in 2nd to 5th row:\n",
      "     Name  Age\n",
      "1   Jack   34\n",
      "2  Steve   29\n",
      "3  Ricky   42\n",
      "4   Mark   20\n"
     ]
    }
   ],
   "source": [
    "print('Selecting Name and Age in 2nd to 5th row:\\n',df.iloc[1:5][['Name','Age']])"
   ]
  }
 ],
 "metadata": {
  "kernelspec": {
   "display_name": "Python 3",
   "language": "python",
   "name": "python3"
  },
  "language_info": {
   "codemirror_mode": {
    "name": "ipython",
    "version": 3
   },
   "file_extension": ".py",
   "mimetype": "text/x-python",
   "name": "python",
   "nbconvert_exporter": "python",
   "pygments_lexer": "ipython3",
   "version": "3.7.9"
  }
 },
 "nbformat": 4,
 "nbformat_minor": 4
}
