{
 "cells": [
  {
   "cell_type": "markdown",
   "metadata": {},
   "source": [
    "## Sorting"
   ]
  },
  {
   "cell_type": "code",
   "execution_count": 1,
   "metadata": {},
   "outputs": [],
   "source": [
    "import numpy as np\n",
    "import pandas as pd"
   ]
  },
  {
   "cell_type": "code",
   "execution_count": 2,
   "metadata": {},
   "outputs": [
    {
     "name": "stdout",
     "output_type": "stream",
     "text": [
      "Unsorted Data Frame:\n",
      "\n",
      "    Column2  Column1\n",
      "1       52        5\n",
      "4       88       71\n",
      "6       61       76\n",
      "2       46       84\n",
      "3       95        1\n",
      "5       66       18\n",
      "9       35       80\n",
      "8       53       41\n",
      "0       88       95\n",
      "7       86       48\n"
     ]
    }
   ],
   "source": [
    "unsorted_df=pd.DataFrame(np.random.randint(1,101,(10,2)),index=[1,4,6,2,3,5,9,8,0,7],columns=['Column2','Column1'])\n",
    "print('Unsorted Data Frame:\\n\\n',unsorted_df)"
   ]
  },
  {
   "cell_type": "code",
   "execution_count": 3,
   "metadata": {},
   "outputs": [
    {
     "name": "stdout",
     "output_type": "stream",
     "text": [
      "\n",
      "Sorted by index:\n",
      "\n",
      "    Column2  Column1\n",
      "0       88       95\n",
      "1       52        5\n",
      "2       46       84\n",
      "3       95        1\n",
      "4       88       71\n",
      "5       66       18\n",
      "6       61       76\n",
      "7       86       48\n",
      "8       53       41\n",
      "9       35       80\n"
     ]
    }
   ],
   "source": [
    "print('\\nSorted by index:\\n\\n',unsorted_df.sort_index())"
   ]
  },
  {
   "cell_type": "code",
   "execution_count": 4,
   "metadata": {
    "scrolled": true
   },
   "outputs": [
    {
     "name": "stdout",
     "output_type": "stream",
     "text": [
      "\n",
      "Sorted index and column:\n",
      "\n",
      "    Column1  Column2\n",
      "0       95       88\n",
      "1        5       52\n",
      "2       84       46\n",
      "3        1       95\n",
      "4       71       88\n",
      "5       18       66\n",
      "6       76       61\n",
      "7       48       86\n",
      "8       41       53\n",
      "9       80       35\n"
     ]
    }
   ],
   "source": [
    "print('\\nSorted index and column:\\n\\n',unsorted_df.sort_index().sort_index(axis=1))"
   ]
  },
  {
   "cell_type": "code",
   "execution_count": 5,
   "metadata": {},
   "outputs": [
    {
     "name": "stdout",
     "output_type": "stream",
     "text": [
      "Unsorted Data Frame:\n",
      "\n",
      "    Column2  Column1\n",
      "1        1        4\n",
      "4        4        4\n",
      "6        3        1\n",
      "2        2        3\n",
      "3        1        3\n",
      "5        2        4\n",
      "9        2        2\n",
      "8        3        2\n",
      "0        3        1\n",
      "7        3        3\n"
     ]
    }
   ],
   "source": [
    "unsorted_df=pd.DataFrame(np.random.randint(1,5,(10,2)),index=[1,4,6,2,3,5,9,8,0,7],columns=['Column2','Column1'])\n",
    "\n",
    "print('Unsorted Data Frame:\\n\\n',unsorted_df)"
   ]
  },
  {
   "cell_type": "code",
   "execution_count": 6,
   "metadata": {},
   "outputs": [
    {
     "name": "stdout",
     "output_type": "stream",
     "text": [
      "\n",
      "Sorted by Column1 then Column2:\n",
      "\n",
      "    Column1  Column2\n",
      "6        1        3\n",
      "0        1        3\n",
      "9        2        2\n",
      "8        2        3\n",
      "3        3        1\n",
      "2        3        2\n",
      "7        3        3\n",
      "1        4        1\n",
      "5        4        2\n",
      "4        4        4\n"
     ]
    }
   ],
   "source": [
    "print('\\nSorted by Column1 then Column2:\\n\\n',unsorted_df.sort_index(axis=1).sort_values(by=['Column1','Column2']))"
   ]
  }
 ],
 "metadata": {
  "kernelspec": {
   "display_name": "Python 3",
   "language": "python",
   "name": "python3"
  },
  "language_info": {
   "codemirror_mode": {
    "name": "ipython",
    "version": 3
   },
   "file_extension": ".py",
   "mimetype": "text/x-python",
   "name": "python",
   "nbconvert_exporter": "python",
   "pygments_lexer": "ipython3",
   "version": "3.7.9"
  }
 },
 "nbformat": 4,
 "nbformat_minor": 4
}
