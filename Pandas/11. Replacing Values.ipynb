{
 "cells": [
  {
   "cell_type": "markdown",
   "metadata": {},
   "source": [
    "## Replacing Values"
   ]
  },
  {
   "cell_type": "code",
   "execution_count": 1,
   "metadata": {},
   "outputs": [],
   "source": [
    "import numpy as np\n",
    "import pandas as pd"
   ]
  },
  {
   "cell_type": "code",
   "execution_count": 2,
   "metadata": {},
   "outputs": [
    {
     "name": "stdout",
     "output_type": "stream",
     "text": [
      "Sample DataFrame:\n",
      "\n",
      "          day  temperature   event\n",
      "0 2020-07-01         15.0  Cloudy\n",
      "1 2020-07-02          NaN   Rainy\n",
      "2 2020-07-03         26.0     NaN\n",
      "3 2020-07-04         15.0   Rainy\n",
      "4 2020-07-05         27.0  Cloudy\n",
      "5 2020-07-06          NaN     NaN\n",
      "6 2020-07-07          NaN     NaN\n",
      "7 2020-07-08          NaN  Cloudy\n",
      "8 2020-07-09         26.0   Sunny\n",
      "9 2020-07-10          NaN     NaN\n"
     ]
    }
   ],
   "source": [
    "df = pd.DataFrame({'day':pd.date_range('07/01/2020',periods=10),'temperature':np.random.randint(15,40,10),\n",
    "                   'event':[['Sunny','Rainy','Cloudy',np.nan,np.nan][np.random.randint(0,5)] for i in range(10)]})\n",
    "df.iloc[np.random.randint(0,10,5),1] = np.nan\n",
    "\n",
    "print('Sample DataFrame:\\n\\n',df)"
   ]
  },
  {
   "cell_type": "code",
   "execution_count": 3,
   "metadata": {},
   "outputs": [
    {
     "name": "stdout",
     "output_type": "stream",
     "text": [
      "\n",
      "After replacing NaN Values:\n",
      "\n",
      "          day  temperature     event\n",
      "0 2020-07-01         15.0    Cloudy\n",
      "1 2020-07-02          0.0     Rainy\n",
      "2 2020-07-03         26.0  No event\n",
      "3 2020-07-04         15.0     Rainy\n",
      "4 2020-07-05         27.0    Cloudy\n",
      "5 2020-07-06          0.0  No event\n",
      "6 2020-07-07          0.0  No event\n",
      "7 2020-07-08          0.0    Cloudy\n",
      "8 2020-07-09         26.0     Sunny\n",
      "9 2020-07-10          0.0  No event\n"
     ]
    }
   ],
   "source": [
    "print('\\nAfter replacing NaN Values:\\n\\n',df.replace(np.nan,{'temperature':0,'event':'No event'}))"
   ]
  }
 ],
 "metadata": {
  "kernelspec": {
   "display_name": "Python 3",
   "language": "python",
   "name": "python3"
  },
  "language_info": {
   "codemirror_mode": {
    "name": "ipython",
    "version": 3
   },
   "file_extension": ".py",
   "mimetype": "text/x-python",
   "name": "python",
   "nbconvert_exporter": "python",
   "pygments_lexer": "ipython3",
   "version": "3.7.9"
  }
 },
 "nbformat": 4,
 "nbformat_minor": 4
}
