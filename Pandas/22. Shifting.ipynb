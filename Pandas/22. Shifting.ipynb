{
 "cells": [
  {
   "cell_type": "markdown",
   "metadata": {},
   "source": [
    "## Shifting"
   ]
  },
  {
   "cell_type": "code",
   "execution_count": 1,
   "metadata": {},
   "outputs": [],
   "source": [
    "import numpy as np\n",
    "import pandas as pd"
   ]
  },
  {
   "cell_type": "code",
   "execution_count": 2,
   "metadata": {},
   "outputs": [
    {
     "name": "stdout",
     "output_type": "stream",
     "text": [
      "             Sales\n",
      "Date              \n",
      "2017-08-15  171.00\n",
      "2017-08-16  170.00\n",
      "2017-08-17  166.91\n",
      "2017-08-18  167.41\n",
      "2017-08-21  167.78\n",
      "2017-08-22  169.64\n",
      "2017-08-23  168.71\n",
      "2017-08-24  167.74\n",
      "2017-08-25  166.32\n",
      "2017-08-28  167.24\n"
     ]
    }
   ],
   "source": [
    "df = pd.read_csv('https://raw.githubusercontent.com/codebasics/py/master/pandas/20_shift_lag/fb.csv',parse_dates=['Date'],index_col='Date')\n",
    "df = df.rename(columns={'Price':'Sales'})\n",
    "print(df)"
   ]
  },
  {
   "cell_type": "code",
   "execution_count": 3,
   "metadata": {},
   "outputs": [
    {
     "name": "stdout",
     "output_type": "stream",
     "text": [
      "Adding Previous Day Sales:\n",
      "\n",
      "             Sales  Yesterday Sale\n",
      "Date                              \n",
      "2017-08-15  171.00             NaN\n",
      "2017-08-16  170.00          171.00\n",
      "2017-08-17  166.91          170.00\n",
      "2017-08-18  167.41          166.91\n",
      "2017-08-21  167.78          167.41\n",
      "2017-08-22  169.64          167.78\n",
      "2017-08-23  168.71          169.64\n",
      "2017-08-24  167.74          168.71\n",
      "2017-08-25  166.32          167.74\n",
      "2017-08-28  167.24          166.32\n"
     ]
    }
   ],
   "source": [
    "print('Adding Previous Day Sales:\\n')\n",
    "df['Yesterday Sale'] = df.Sales.shift(1)\n",
    "\n",
    "print(df)"
   ]
  },
  {
   "cell_type": "code",
   "execution_count": 4,
   "metadata": {},
   "outputs": [
    {
     "name": "stdout",
     "output_type": "stream",
     "text": [
      "Adding Sales Growth:\n",
      "\n",
      "             Sales  Yesterday Sale  Growth  Sales Growth\n",
      "Date                                                    \n",
      "2017-08-15  171.00             NaN     NaN           NaN\n",
      "2017-08-16  170.00          171.00    1.00      0.584795\n",
      "2017-08-17  166.91          170.00    3.09      1.817647\n",
      "2017-08-18  167.41          166.91   -0.50     -0.299563\n",
      "2017-08-21  167.78          167.41   -0.37     -0.221014\n",
      "2017-08-22  169.64          167.78   -1.86     -1.108595\n",
      "2017-08-23  168.71          169.64    0.93      0.548220\n",
      "2017-08-24  167.74          168.71    0.97      0.574951\n",
      "2017-08-25  166.32          167.74    1.42      0.846548\n",
      "2017-08-28  167.24          166.32   -0.92     -0.553151\n"
     ]
    }
   ],
   "source": [
    "print('Adding Sales Growth:\\n')\n",
    "df['Growth'] = df['Yesterday Sale'] - df['Sales']\n",
    "\n",
    "df['Sales Growth'] = (df['Yesterday Sale'] - df['Sales'])/df['Yesterday Sale']*100\n",
    "\n",
    "print(df)"
   ]
  }
 ],
 "metadata": {
  "kernelspec": {
   "display_name": "Python 3",
   "language": "python",
   "name": "python3"
  },
  "language_info": {
   "codemirror_mode": {
    "name": "ipython",
    "version": 3
   },
   "file_extension": ".py",
   "mimetype": "text/x-python",
   "name": "python",
   "nbconvert_exporter": "python",
   "pygments_lexer": "ipython3",
   "version": "3.7.9"
  }
 },
 "nbformat": 4,
 "nbformat_minor": 4
}
