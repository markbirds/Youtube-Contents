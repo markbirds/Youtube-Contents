{
 "cells": [
  {
   "cell_type": "markdown",
   "metadata": {},
   "source": [
    "## Window Functions and pct_change()"
   ]
  },
  {
   "cell_type": "code",
   "execution_count": 1,
   "metadata": {},
   "outputs": [],
   "source": [
    "import numpy as np\n",
    "import pandas as pd"
   ]
  },
  {
   "cell_type": "code",
   "execution_count": 2,
   "metadata": {},
   "outputs": [
    {
     "name": "stdout",
     "output_type": "stream",
     "text": [
      "Sample Sales DataFrame:\n",
      "\n",
      "               A    B    C    D\n",
      "2020-07-01  155  965  400  546\n",
      "2020-07-02  226  217   76  308\n",
      "2020-07-03  183  598  433  870\n",
      "2020-07-04  479   25  583  850\n",
      "2020-07-05  419  765  597  791\n",
      "2020-07-06  916  733  141  168\n",
      "2020-07-07  522  438  630  901\n",
      "2020-07-08  352  794  199  423\n",
      "2020-07-09  296  930  799  220\n",
      "2020-07-10  588   83  185  502\n"
     ]
    }
   ],
   "source": [
    "df = pd.DataFrame(np.random.randint(0,1001,(10,4)),index=pd.date_range(start='07/01/2020',periods=10),columns=list('ABCD'))\n",
    "pd.set_option('display.precision',2)\n",
    "print('Sample Sales DataFrame:\\n\\n',df)"
   ]
  },
  {
   "cell_type": "code",
   "execution_count": 3,
   "metadata": {
    "scrolled": false
   },
   "outputs": [
    {
     "name": "stdout",
     "output_type": "stream",
     "text": [
      "rolling() Function: Average sales for the last 3 days\n",
      "\n",
      "                  A       B       C       D\n",
      "2020-07-01     NaN     NaN     NaN     NaN\n",
      "2020-07-02     NaN     NaN     NaN     NaN\n",
      "2020-07-03  188.00  593.33  303.00  574.67\n",
      "2020-07-04  296.00  280.00  364.00  676.00\n",
      "2020-07-05  360.33  462.67  537.67  837.00\n",
      "2020-07-06  604.67  507.67  440.33  603.00\n",
      "2020-07-07  619.00  645.33  456.00  620.00\n",
      "2020-07-08  596.67  655.00  323.33  497.33\n",
      "2020-07-09  390.00  720.67  542.67  514.67\n",
      "2020-07-10  412.00  602.33  394.33  381.67\n"
     ]
    }
   ],
   "source": [
    "print('rolling() Function: Average sales for the last 3 days\\n\\n',df.rolling(window=3).mean())"
   ]
  },
  {
   "cell_type": "code",
   "execution_count": 4,
   "metadata": {},
   "outputs": [
    {
     "name": "stdout",
     "output_type": "stream",
     "text": [
      "expanding() Function: Total sales starting from 07/01/2020\n",
      "\n",
      "                  A       B       C       D\n",
      "2020-07-01   155.0   965.0   400.0   546.0\n",
      "2020-07-02   381.0  1182.0   476.0   854.0\n",
      "2020-07-03   564.0  1780.0   909.0  1724.0\n",
      "2020-07-04  1043.0  1805.0  1492.0  2574.0\n",
      "2020-07-05  1462.0  2570.0  2089.0  3365.0\n",
      "2020-07-06  2378.0  3303.0  2230.0  3533.0\n",
      "2020-07-07  2900.0  3741.0  2860.0  4434.0\n",
      "2020-07-08  3252.0  4535.0  3059.0  4857.0\n",
      "2020-07-09  3548.0  5465.0  3858.0  5077.0\n",
      "2020-07-10  4136.0  5548.0  4043.0  5579.0\n"
     ]
    }
   ],
   "source": [
    "print('expanding() Function: Total sales starting from 07/01/2020\\n\\n',df.expanding().sum())"
   ]
  },
  {
   "cell_type": "code",
   "execution_count": 5,
   "metadata": {},
   "outputs": [
    {
     "name": "stdout",
     "output_type": "stream",
     "text": [
      "Percent change of average sales each day\n",
      "\n",
      "                  A        B       C       D\n",
      "2020-07-01     NaN      NaN     NaN     NaN\n",
      "2020-07-02   45.81   -77.51  -81.00  -43.59\n",
      "2020-07-03  -19.03   175.58  469.74  182.47\n",
      "2020-07-04  161.75   -95.82   34.64   -2.30\n",
      "2020-07-05  -12.53  2960.00    2.40   -6.94\n",
      "2020-07-06  118.62    -4.18  -76.38  -78.76\n",
      "2020-07-07  -43.01   -40.25  346.81  436.31\n",
      "2020-07-08  -32.57    81.28  -68.41  -53.05\n",
      "2020-07-09  -15.91    17.13  301.51  -47.99\n",
      "2020-07-10   98.65   -91.08  -76.85  128.18\n"
     ]
    }
   ],
   "source": [
    "print('Percent change of average sales each day\\n\\n',df.rolling(window=1).mean().pct_change()*100)"
   ]
  },
  {
   "cell_type": "code",
   "execution_count": 6,
   "metadata": {},
   "outputs": [
    {
     "name": "stdout",
     "output_type": "stream",
     "text": [
      "Using aggregate function:\n",
      "\n",
      "                  A               B               C               D        \n",
      "               sum    mean     sum    mean     sum    mean     sum    mean\n",
      "2020-07-01   155.0  155.00   965.0  965.00   400.0  400.00   546.0  546.00\n",
      "2020-07-02   381.0  190.50  1182.0  591.00   476.0  238.00   854.0  427.00\n",
      "2020-07-03   564.0  188.00  1780.0  593.33   909.0  303.00  1724.0  574.67\n",
      "2020-07-04  1043.0  260.75  1805.0  451.25  1492.0  373.00  2574.0  643.50\n",
      "2020-07-05  1462.0  292.40  2570.0  514.00  2089.0  417.80  3365.0  673.00\n",
      "2020-07-06  2378.0  396.33  3303.0  550.50  2230.0  371.67  3533.0  588.83\n",
      "2020-07-07  2900.0  414.29  3741.0  534.43  2860.0  408.57  4434.0  633.43\n",
      "2020-07-08  3252.0  406.50  4535.0  566.88  3059.0  382.38  4857.0  607.12\n",
      "2020-07-09  3548.0  394.22  5465.0  607.22  3858.0  428.67  5077.0  564.11\n",
      "2020-07-10  4136.0  413.60  5548.0  554.80  4043.0  404.30  5579.0  557.90\n"
     ]
    }
   ],
   "source": [
    "print('Using aggregate function:\\n\\n',df.expanding().agg([np.sum,np.mean]))"
   ]
  }
 ],
 "metadata": {
  "kernelspec": {
   "display_name": "Python 3",
   "language": "python",
   "name": "python3"
  },
  "language_info": {
   "codemirror_mode": {
    "name": "ipython",
    "version": 3
   },
   "file_extension": ".py",
   "mimetype": "text/x-python",
   "name": "python",
   "nbconvert_exporter": "python",
   "pygments_lexer": "ipython3",
   "version": "3.7.9"
  }
 },
 "nbformat": 4,
 "nbformat_minor": 4
}
